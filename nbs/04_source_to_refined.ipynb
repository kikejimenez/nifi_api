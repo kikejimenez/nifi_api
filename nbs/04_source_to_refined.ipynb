{
 "cells": [
  {
   "cell_type": "code",
   "execution_count": 3,
   "id": "suspected-priority",
   "metadata": {
    "execution": {
     "iopub.execute_input": "2021-02-24T18:19:46.759763Z",
     "iopub.status.busy": "2021-02-24T18:19:46.759581Z",
     "iopub.status.idle": "2021-02-24T18:19:46.773589Z",
     "shell.execute_reply": "2021-02-24T18:19:46.773481Z",
     "shell.execute_reply.started": "2021-02-24T18:19:46.759679Z"
    }
   },
   "outputs": [],
   "source": [
    "#hide\n",
    "%load_ext autoreload\n",
    "%autoreload 2"
   ]
  },
  {
   "cell_type": "code",
   "execution_count": 4,
   "id": "judicial-victorian",
   "metadata": {
    "execution": {
     "iopub.execute_input": "2021-02-24T18:19:46.996435Z",
     "iopub.status.busy": "2021-02-24T18:19:46.996127Z",
     "iopub.status.idle": "2021-02-24T18:19:47.279530Z",
     "shell.execute_reply": "2021-02-24T18:19:47.276330Z",
     "shell.execute_reply.started": "2021-02-24T18:19:46.996311Z"
    }
   },
   "outputs": [],
   "source": [
    "#default_exp source_to_refined"
   ]
  },
  {
   "cell_type": "code",
   "execution_count": 5,
   "id": "charming-prompt",
   "metadata": {
    "execution": {
     "iopub.execute_input": "2021-02-24T18:19:47.176773Z",
     "iopub.status.busy": "2021-02-24T18:19:47.176380Z",
     "iopub.status.idle": "2021-02-24T18:19:47.296079Z",
     "shell.execute_reply": "2021-02-24T18:19:47.295947Z",
     "shell.execute_reply.started": "2021-02-24T18:19:47.176632Z"
    }
   },
   "outputs": [],
   "source": [
    "#export\n",
    "\n",
    "from time import sleep\n",
    "from nifi_api.environment import NifiIds\n",
    "from nifi_api.dataflow import DataFlow"
   ]
  },
  {
   "cell_type": "markdown",
   "id": "revised-packing",
   "metadata": {},
   "source": [
    "# Source To Refined\n",
    "> Complete Nifi Dataflow"
   ]
  },
  {
   "cell_type": "code",
   "execution_count": 6,
   "id": "simplified-intersection",
   "metadata": {
    "execution": {
     "iopub.execute_input": "2021-02-24T18:19:55.952282Z",
     "iopub.status.busy": "2021-02-24T18:19:55.951943Z",
     "iopub.status.idle": "2021-02-24T18:19:55.979171Z",
     "shell.execute_reply": "2021-02-24T18:19:55.979029Z",
     "shell.execute_reply.started": "2021-02-24T18:19:55.952126Z"
    }
   },
   "outputs": [],
   "source": [
    "# export\n",
    "def source_to_refined():\n",
    "    \"\"\" The Source To Refined dataflow is decomposed in three sequential steps:\n",
    "        - Source To Raw\n",
    "        - Raw To Discovery\n",
    "        - Discovery To Refined\n",
    "    This function assures that each of these steps starts only after the\n",
    "    previous step has finished.\n",
    "    \"\"\"\n",
    "\n",
    "    # time between steps\n",
    "    T = 15\n",
    "\n",
    "    source_to_raw = DataFlow(NifiIds.sourceToRaw)\n",
    "    raw_to_discovery = DataFlow(NifiIds.rawToDiscovery)\n",
    "    discovery_to_refined = DataFlow(NifiIds.discoveryToRefined)\n",
    "\n",
    "    source_to_raw.run()\n",
    "    sleep(T)\n",
    "    raw_to_discovery.run()\n",
    "    sleep(T)\n",
    "    discovery_to_refined.run()"
   ]
  },
  {
   "cell_type": "code",
   "execution_count": null,
   "id": "considered-breast",
   "metadata": {
    "execution": {
     "iopub.execute_input": "2021-02-24T18:35:27.565901Z",
     "iopub.status.busy": "2021-02-24T18:35:27.565802Z"
    },
    "tags": []
   },
   "outputs": [],
   "source": [
    "#test\n",
    "\n",
    "# Benchmark Test\n",
    "# 1. Update a valid 1 GB file in to the S3 bucket, i.e., campaigns.csv\n",
    "# 2. Run *source_to_refined* and track its execution time\n",
    "source_to_refined()"
   ]
  },
  {
   "cell_type": "code",
   "execution_count": null,
   "id": "superb-rider",
   "metadata": {},
   "outputs": [],
   "source": [
    "#hide\n",
    "from nbdev.export import notebook2script; notebook2script()"
   ]
  }
 ],
 "metadata": {
  "kernelspec": {
   "display_name": "Python 3.8 (XPython)",
   "language": "python",
   "name": "xpython"
  },
  "language_info": {
   "file_extension": ".py",
   "mimetype": "text/x-python",
   "name": "python",
   "version": "3.8.7"
  }
 },
 "nbformat": 4,
 "nbformat_minor": 5
}
