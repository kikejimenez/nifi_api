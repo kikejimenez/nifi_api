{
 "cells": [
  {
   "cell_type": "code",
   "execution_count": null,
   "id": "hindu-nature",
   "metadata": {},
   "outputs": [
    {
     "name": "stdout",
     "output_type": "stream",
     "text": [
      "The autoreload extension is already loaded. To reload it, use:\n",
      "  %reload_ext autoreload\n"
     ]
    }
   ],
   "source": [
    "#hide\n",
    "%load_ext autoreload\n",
    "%autoreload 2"
   ]
  },
  {
   "cell_type": "code",
   "execution_count": null,
   "id": "labeled-fault",
   "metadata": {},
   "outputs": [],
   "source": [
    "#export\n",
    "\n",
    "import json\n",
    "from os import environ\n",
    "from time import sleep\n",
    "from nifi_api.dataflow import DataFlow\n",
    "from nifi_api.environment import DataFlowIds"
   ]
  },
  {
   "cell_type": "code",
   "execution_count": null,
   "id": "ranging-experience",
   "metadata": {},
   "outputs": [],
   "source": [
    "#default_exp source_to_refined"
   ]
  },
  {
   "cell_type": "markdown",
   "id": "parallel-majority",
   "metadata": {},
   "source": [
    "# Source To Refined\n",
    "> Monitors three dataflows"
   ]
  },
  {
   "cell_type": "code",
   "execution_count": null,
   "id": "terminal-upgrade",
   "metadata": {},
   "outputs": [],
   "source": [
    "#export\n",
    "class NifiIds:\n",
    "    \"\"\" The collection of the DataFlowIds:\n",
    "          - source to raw\n",
    "          - raw to discovery\n",
    "          - discovery to refined\n",
    "    \"\"\"\n",
    "\n",
    "    nifi_json_ids = json.load(open(environ['CONFIG_FILE']))['NifiIds']\n",
    "\n",
    "    sourceToRaw = DataFlowIds(pipeline=nifi_json_ids['SourceToRaw'])\n",
    "    rawToDiscovery = DataFlowIds(pipeline=nifi_json_ids['RawToDiscovery'])\n",
    "    discoveryToRefined = DataFlowIds(\n",
    "        pipeline=nifi_json_ids['DiscoveryToRefined'])"
   ]
  },
  {
   "cell_type": "code",
   "execution_count": null,
   "id": "integrated-douglas",
   "metadata": {},
   "outputs": [],
   "source": [
    "# export\n",
    "def source_to_refined():\n",
    "    \"\"\" The Source To Refined dataflow is decomposed in three sequential steps:\n",
    "        - Source To Raw\n",
    "        - Raw To Discovery\n",
    "        - Discovery To Refined\n",
    "    This function assures that each of these steps starts only after the\n",
    "    previous step has finished.\n",
    "    \"\"\"\n",
    "\n",
    "    # time between steps\n",
    "    T = 15\n",
    "    time_after_start = 15\n",
    "\n",
    "    time_between_checks = 15\n",
    "\n",
    "    source_to_raw = DataFlow(\n",
    "        NifiIds.sourceToRaw,\n",
    "        delay_seconds_after_start=time_after_start,\n",
    "        delay_seconds_between_checks=time_between_checks,\n",
    "    )\n",
    "    raw_to_discovery = DataFlow(\n",
    "        NifiIds.rawToDiscovery,\n",
    "        delay_seconds_after_start=time_after_start,\n",
    "        delay_seconds_between_checks=time_between_checks,\n",
    "    )\n",
    "    discovery_to_refined = DataFlow(\n",
    "        NifiIds.discoveryToRefined,\n",
    "        delay_seconds_after_start=time_after_start,\n",
    "        delay_seconds_between_checks=time_between_checks,\n",
    "    )\n",
    "\n",
    "    source_to_raw.run()\n",
    "    sleep(T)\n",
    "    raw_to_discovery.run()\n",
    "    sleep(T)\n",
    "    discovery_to_refined.run()"
   ]
  },
  {
   "cell_type": "code",
   "execution_count": null,
   "id": "golden-ancient",
   "metadata": {},
   "outputs": [
    {
     "name": "stdout",
     "output_type": "stream",
     "text": [
      "Pipeline watching has finished ...\n",
      "Pipeline watching has finished ...\n",
      "Pipeline watching has finished ...\n"
     ]
    }
   ],
   "source": [
    "#test\n",
    "\n",
    "# Benchmark Test\n",
    "# 1. Update a valid 1 GB file in to the S3 bucket, i.e., campaigns.csv\n",
    "# 2. Run *source_to_refined* and track its execution time\n",
    "source_to_refined()"
   ]
  },
  {
   "cell_type": "code",
   "execution_count": null,
   "id": "geographic-creature",
   "metadata": {},
   "outputs": [
    {
     "name": "stdout",
     "output_type": "stream",
     "text": [
      "Converted 01_environment.ipynb.\n",
      "Converted 02_rest.ipynb.\n",
      "Converted 03_dataflow.ipynb.\n",
      "Converted 04_source_to_refined.ipynb.\n",
      "Converted 09_tools.ipynb.\n",
      "Converted index.ipynb.\n"
     ]
    }
   ],
   "source": [
    "#hide\n",
    "from nbdev.export import notebook2script; notebook2script()"
   ]
  },
  {
   "cell_type": "code",
   "execution_count": null,
   "id": "colored-competition",
   "metadata": {},
   "outputs": [],
   "source": []
  }
 ],
 "metadata": {
  "kernelspec": {
   "display_name": "Python 3.8 (XPython)",
   "language": "python",
   "name": "xpython"
  }
 },
 "nbformat": 4,
 "nbformat_minor": 5
}
