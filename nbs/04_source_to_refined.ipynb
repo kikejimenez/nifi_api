{
 "cells": [
  {
   "cell_type": "code",
   "execution_count": 1,
   "id": "northern-discussion",
   "metadata": {},
   "outputs": [],
   "source": [
    "#default_exp source_to_refined"
   ]
  },
  {
   "cell_type": "code",
   "execution_count": 1,
   "id": "imported-uncertainty",
   "metadata": {},
   "outputs": [],
   "source": [
    "#export\n",
    "\n",
    "from time import sleep\n",
    "from nifi_api.environment import NifiIds\n",
    "from nifi_api.dataflow import DataFlow"
   ]
  },
  {
   "cell_type": "code",
   "execution_count": 3,
   "id": "working-harris",
   "metadata": {},
   "outputs": [],
   "source": [
    "# export\n",
    "def source_to_refined():\n",
    "    \"\"\" The Source To Refined dataflow is decomposed in three sequential steps:\n",
    "        - Source To Raw\n",
    "        - Raw To Discovery\n",
    "        - Discovery To Refined\n",
    "    This function assures that each of these steps starts only after the\n",
    "    previous step has finished.\n",
    "    \"\"\"\n",
    "\n",
    "    # time between steps\n",
    "    T = 15\n",
    "\n",
    "    source_to_raw = DataFlow(NifiIds.sourceToRaw)\n",
    "    raw_to_discovery = DataFlow(NifiIds.rawToDiscovery)\n",
    "    discovery_to_refined = DataFlow(NifiIds.discoveryToRefined)\n",
    "\n",
    "    source_to_raw.run()\n",
    "    sleep(T)\n",
    "    raw_to_discovery.run()\n",
    "    sleep(T)\n",
    "    discovery_to_refined.run()"
   ]
  },
  {
   "cell_type": "code",
   "execution_count": 4,
   "id": "pretty-evolution",
   "metadata": {},
   "outputs": [
    {
     "name": "stdout",
     "output_type": "stream",
     "text": [
      "Pipeline watching has finished ...\n",
      "Pipeline watching has finished ...\n",
      "Pipeline watching has finished ...\n"
     ]
    }
   ],
   "source": [
    "source_to_refined()"
   ]
  },
  {
   "cell_type": "code",
   "execution_count": null,
   "id": "german-passing",
   "metadata": {},
   "outputs": [],
   "source": []
  }
 ],
 "metadata": {
  "kernelspec": {
   "display_name": "Python 3.8 (XPython)",
   "language": "python",
   "name": "xpython"
  },
  "language_info": {
   "file_extension": ".py",
   "mimetype": "text/x-python",
   "name": "python",
   "version": "3.8.7"
  }
 },
 "nbformat": 4,
 "nbformat_minor": 5
}
