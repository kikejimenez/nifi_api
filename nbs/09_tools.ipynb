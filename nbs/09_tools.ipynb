{
 "cells": [
  {
   "cell_type": "code",
   "execution_count": 10,
   "metadata": {},
   "outputs": [
    {
     "name": "stdout",
     "output_type": "stream",
     "text": [
      "The autoreload extension is already loaded. To reload it, use:\n",
      "  %reload_ext autoreload\n"
     ]
    }
   ],
   "source": [
    "#hide\n",
    "%load_ext autoreload\n",
    "%autoreload 2"
   ]
  },
  {
   "cell_type": "code",
   "execution_count": 11,
   "metadata": {},
   "outputs": [],
   "source": [
    "#default_exp tools"
   ]
  },
  {
   "cell_type": "code",
   "execution_count": 12,
   "metadata": {},
   "outputs": [],
   "source": [
    "#export\n",
    "import json"
   ]
  },
  {
   "cell_type": "markdown",
   "metadata": {},
   "source": [
    "# Tools\n",
    "> Functions That Make Life Easier"
   ]
  },
  {
   "cell_type": "code",
   "execution_count": 13,
   "metadata": {},
   "outputs": [],
   "source": [
    "# export\n",
    "\n",
    "def custom_response(res):\n",
    "    \"\"\" De-Serializes the JSON response\n",
    "    \"\"\"\n",
    "    try:\n",
    "        return json.loads(res.text), res\n",
    "    except:\n",
    "        return \"No JSON available\", res"
   ]
  },
  {
   "cell_type": "code",
   "execution_count": 14,
   "metadata": {},
   "outputs": [],
   "source": [
    "#export\n",
    "\n",
    "\n",
    "def is_valid_csv(file):\n",
    "    \"\"\" A valid file is a csv file whose name is in a\n",
    "    set of valid names\n",
    "  \n",
    "    \"\"\"\n",
    "    valid_names = [\n",
    "        'agents',\n",
    "        'calls',\n",
    "        'summary',\n",
    "        'skills',\n",
    "        'teams',\n",
    "        'campaings',\n",
    "    ]\n",
    "\n",
    "    filename = file.split('/')[-1].split('.')\n",
    "    if len(filename) == 1:\n",
    "        return False\n",
    "\n",
    "    fname, ext = filename\n",
    "    is_valid_name = any(vname in fname for vname in valid_names)\n",
    "    return is_valid_name and ext.lower() == 'csv'"
   ]
  },
  {
   "cell_type": "code",
   "execution_count": 15,
   "metadata": {},
   "outputs": [],
   "source": [
    "assert is_valid_csv('words_skills.csv')"
   ]
  },
  {
   "cell_type": "code",
   "execution_count": 16,
   "metadata": {},
   "outputs": [],
   "source": [
    "#export\n",
    "\n",
    "\n",
    "def get_valid_names_in_connector(list_queues, nifi_attribute='filename'):\n",
    "    \"\"\" Gets a list of valid names from the list of queues\n",
    "    \"\"\"\n",
    "    flowfile_summaries = list_queues['listingRequest']['flowFileSummaries']\n",
    "    valid_uuids = [\n",
    "        ff[nifi_attribute]\n",
    "        for ff in flowfile_summaries\n",
    "        if is_valid_csv(ff[nifi_attribute])\n",
    "    ]\n",
    "    return valid_uuids"
   ]
  },
  {
   "cell_type": "code",
   "execution_count": 17,
   "metadata": {},
   "outputs": [],
   "source": [
    "#test\n",
    "example = {\n",
    "    'listingRequest': {\n",
    "        'flowFileSummaries': [{\n",
    "            'uuid': 'A',\n",
    "            'filename': \"enrique.csv\",\n",
    "            'position': 1,\n",
    "            'penalized': False\n",
    "        }, {\n",
    "            'uuid': 'B',\n",
    "            'filename': '1_GB_agents.csv',\n",
    "        }, {\n",
    "            'uuid': 'C',\n",
    "            'filename':  'campaings.csv'\n",
    "        }]\n",
    "    }\n",
    "}\n",
    "\n",
    "def is_valid_example(fname):\n",
    "    return any(\n",
    "        fname == vname for vname in get_valid_names_in_connector(example))\n",
    "\n",
    "\n",
    "assert not is_valid_example('enrique.csv')\n",
    "assert is_valid_example('1_GB_agents.csv')\n",
    "assert is_valid_example('campaings.csv')"
   ]
  },
  {
   "cell_type": "code",
   "execution_count": 18,
   "metadata": {},
   "outputs": [
    {
     "name": "stdout",
     "output_type": "stream",
     "text": [
      "Converted 01_environment.ipynb.\n",
      "Converted 02_rest.ipynb.\n",
      "Converted 03_dataflow.ipynb.\n",
      "Converted 04_source_to_refined.ipynb.\n",
      "Converted 09_tools.ipynb.\n",
      "Converted index.ipynb.\n"
     ]
    }
   ],
   "source": [
    "#hide\n",
    "from nbdev.export import notebook2script; notebook2script()"
   ]
  }
 ],
 "metadata": {
  "kernelspec": {
   "display_name": "Python 3.8 (XPython)",
   "language": "python",
   "name": "xpython"
  },
  "language_info": {
   "file_extension": ".py",
   "mimetype": "text/x-python",
   "name": "python",
   "version": "3.8.7"
  }
 },
 "nbformat": 4,
 "nbformat_minor": 4
}
