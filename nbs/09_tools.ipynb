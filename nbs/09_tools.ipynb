{
 "cells": [
  {
   "cell_type": "code",
   "execution_count": null,
   "metadata": {},
   "outputs": [],
   "source": [
    "#default_exp tools"
   ]
  },
  {
   "cell_type": "code",
   "execution_count": null,
   "metadata": {},
   "outputs": [],
   "source": [
    "#export\n",
    "import json\n",
    "from nifi_api.environment import Vars"
   ]
  },
  {
   "cell_type": "markdown",
   "metadata": {},
   "source": [
    "# Tools\n",
    "> Functions That Make Life Easier"
   ]
  },
  {
   "cell_type": "code",
   "execution_count": null,
   "metadata": {},
   "outputs": [],
   "source": [
    "# export\n",
    "\n",
    "def custom_response(res):\n",
    "    try:\n",
    "        return json.loads(res.text), res\n",
    "    except:\n",
    "        return \"No JSON available\", res"
   ]
  },
  {
   "cell_type": "code",
   "execution_count": null,
   "metadata": {},
   "outputs": [],
   "source": [
    "#export\n",
    "\n",
    "\n",
    "def is_valid_csv(file):\n",
    "    \"\"\" A valid file is a filename is csv file that with sufix in a given\n",
    "    set of valid names\n",
    "    \"\"\"\n",
    "    valid_names = [\n",
    "        'agents',\n",
    "        'calls',\n",
    "        'summary',\n",
    "        'skills',\n",
    "        'teams',\n",
    "        'campaings',\n",
    "    ]\n",
    "\n",
    "    filename = file.split('/')[-1].split('.')\n",
    "    if len(filename) == 1:\n",
    "        return False\n",
    "\n",
    "    fname, ext = filename\n",
    "    is_valid_name = any(vname in fname for vname in valid_names)\n",
    "    return is_valid_name and ext.lower() == 'csv'"
   ]
  },
  {
   "cell_type": "code",
   "execution_count": null,
   "metadata": {},
   "outputs": [],
   "source": [
    "assert is_valid_csv('some/path/weirdwords_skills.csv')"
   ]
  },
  {
   "cell_type": "code",
   "execution_count": null,
   "metadata": {},
   "outputs": [],
   "source": [
    "#export\n",
    "\n",
    "\n",
    "def get_valid_names_in_connector(list_queues):\n",
    "    \"\"\" Gets a list of valid UUIDs from the list of queues\n",
    "    \"\"\"\n",
    "    flowfile_summaries = list_queues['listingRequest']['flowFileSummaries']\n",
    "    valid_uuids = [\n",
    "        ff['filename']\n",
    "        for ff in flowfile_summaries\n",
    "        if is_valid_csv(ff['filename'])\n",
    "    ]\n",
    "    return valid_uuids"
   ]
  },
  {
   "cell_type": "code",
   "execution_count": null,
   "metadata": {},
   "outputs": [],
   "source": [
    "example = {\n",
    "    'listingRequest': {\n",
    "        'flowFileSummaries': [{\n",
    "            'uuid': 'A',\n",
    "            'filename': \"enrique/source/\",\n",
    "            'position': 1,\n",
    "            'penalized': False\n",
    "        }, {\n",
    "            'uuid': 'B',\n",
    "            'filename': 'enrique/source/1_GB_agents.csv',\n",
    "        }, {\n",
    "            'uuid': 'C',\n",
    "            'filename':  'path/tofile/campaings.csv'\n",
    "        }]\n",
    "    }\n",
    "}"
   ]
  },
  {
   "cell_type": "code",
   "execution_count": null,
   "metadata": {},
   "outputs": [],
   "source": [
    "def is_valid_example(fname):\n",
    "    return any(\n",
    "        fname == vname for vname in get_valid_names_in_connector(example))\n",
    "\n",
    "\n",
    "assert not is_valid_example('enrique/source/')\n",
    "assert is_valid_example('enrique/source/1_GB_agents.csv')\n",
    "assert is_valid_example('path/tofile/campaings.csv')"
   ]
  }
 ],
 "metadata": {
  "kernelspec": {
   "display_name": "Python 3.8 (XPython)",
   "language": "python",
   "name": "xpython"
  }
 },
 "nbformat": 4,
 "nbformat_minor": 4
}
