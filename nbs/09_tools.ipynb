{
 "cells": [
  {
   "cell_type": "code",
   "execution_count": null,
   "metadata": {},
   "outputs": [],
   "source": [
    "#default_exp tools"
   ]
  },
  {
   "cell_type": "code",
   "execution_count": null,
   "metadata": {},
   "outputs": [],
   "source": [
    "#export\n",
    "import json"
   ]
  },
  {
   "cell_type": "markdown",
   "metadata": {},
   "source": [
    "# Tools\n",
    "> Functions That Make Life Easier"
   ]
  },
  {
   "cell_type": "code",
   "execution_count": null,
   "metadata": {},
   "outputs": [],
   "source": [
    "# export\n",
    "\n",
    "def custom_response(res):\n",
    "    if res.status_code == 200:\n",
    "        return json.loads(res.text), res\n",
    "    else:\n",
    "        return \"No JSON available\", res"
   ]
  },
  {
   "cell_type": "code",
   "execution_count": null,
   "metadata": {},
   "outputs": [],
   "source": [
    "#export\n",
    "def is_valid_csv(file):\n",
    "    \"\"\" A valid file is a filename is csv file that with sufix in a given\n",
    "    set of valid names\n",
    "    \"\"\"\n",
    "    valid_names = ['agents', 'calls', 'summary', 'skills', 'teams', 'campaings']\n",
    "\n",
    "    filename = file.split('/')[-1].split('.')\n",
    "    if len(filename) == 1:\n",
    "        return False\n",
    "\n",
    "    fname, ext = filename\n",
    "\n",
    "    return any(\n",
    "        vname in fname for vname in valid_names) and ext.lower() == 'csv'"
   ]
  },
  {
   "cell_type": "code",
   "execution_count": null,
   "metadata": {},
   "outputs": [],
   "source": [
    "assert is_valid_csv('some/path/weirdwords_skills.csv')"
   ]
  },
  {
   "cell_type": "code",
   "execution_count": null,
   "metadata": {},
   "outputs": [],
   "source": [
    "#export\n",
    "\n",
    "\n",
    "def get_valid_uuids_in_connector(list_queues):\n",
    "    \"\"\" Gets a list of valid UUIDs from the list of queues\n",
    "    \"\"\"\n",
    "    flowfile_summaries = list_queues['flowFileSummaries']\n",
    "    valid_uuids = [\n",
    "        ff['uuid'] for ff in flowfile_summaries if is_valid_csv(ff['filename'])\n",
    "    ]\n",
    "    return valid_uuids"
   ]
  },
  {
   "cell_type": "code",
   "execution_count": null,
   "metadata": {},
   "outputs": [],
   "source": [
    "example = {\n",
    "    'flowFileSummaries': [{\n",
    "        'uuid': 'A',\n",
    "        'filename': \"cdp-data/enrique/source/\",\n",
    "        'position': 1,\n",
    "        'penalized': False\n",
    "    }, {\n",
    "        'uuid': 'B',\n",
    "        'filename': 'cdp-data/resources/enrique/source/1_GB_agents.csv',\n",
    "    }, {\n",
    "        'uuid': 'C',\n",
    "        'filename': 'cdp-data/resources/enrique/source/campaigns.csv'\n",
    "    }]\n",
    "}"
   ]
  },
  {
   "cell_type": "code",
   "execution_count": null,
   "metadata": {},
   "outputs": [],
   "source": [
    "assert ('A' not in get_valid_uuids_in_connector(example))\n",
    "assert ('B' in get_valid_uuids_in_connector(example))\n",
    "assert ([] == get_valid_uuids_in_connector({'flowFileSummaries': []}))"
   ]
  },
  {
   "cell_type": "code",
   "execution_count": null,
   "metadata": {},
   "outputs": [],
   "source": [
    "def sleep()"
   ]
  }
 ],
 "metadata": {
  "kernelspec": {
   "display_name": "Python 3.8 (XPython)",
   "language": "python",
   "name": "xpython"
  }
 },
 "nbformat": 4,
 "nbformat_minor": 4
}
