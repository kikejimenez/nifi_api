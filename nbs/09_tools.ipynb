{
 "cells": [
  {
   "cell_type": "code",
   "execution_count": null,
   "metadata": {},
   "outputs": [],
   "source": [
    "#default_exp tools"
   ]
  },
  {
   "cell_type": "code",
   "execution_count": null,
   "metadata": {},
   "outputs": [],
   "source": [
    "#export\n",
    "import json "
   ]
  },
  {
   "cell_type": "markdown",
   "metadata": {},
   "source": [
    "# Tools\n",
    "> Functions That Make Life Easier"
   ]
  },
  {
   "cell_type": "code",
   "execution_count": null,
   "metadata": {},
   "outputs": [],
   "source": [
    "#export\n",
    "def custom_response(res):\n",
    "    try:\n",
    "        return json.loads(res.text), res\n",
    "    except:\n",
    "        return \"No JSON available\", res"
   ]
  },
  {
   "cell_type": "code",
   "execution_count": null,
   "metadata": {},
   "outputs": [],
   "source": [
    "#export\n",
    "def is_valid_csv(file):\n",
    "    valid_names = ['agents', 'calls', 'summary', 'skills', 'teams', 'campaings']\n",
    "    filename = file.split('/')[-1].split('.')[0]\n",
    "    return any(name in filename  for name in valid_names)"
   ]
  },
  {
   "cell_type": "code",
   "execution_count": null,
   "metadata": {},
   "outputs": [],
   "source": [
    "assert is_valid_csv('some/path/weirdwords_skills.csv')"
   ]
  },
  {
   "cell_type": "code",
   "execution_count": null,
   "metadata": {},
   "outputs": [],
   "source": [
    "#export\n",
    "\n",
    "def get_valid_uuis_connector(list_queues):\n",
    "    \"\"\" Gets a list of valid UUIs from the flowfile-info in the \n",
    "        list_queues\n",
    "    \"\"\"\n",
    "        flowfile_summaries = list_queues['flowFileSummaries']\n",
    "        flowfile ['filename']"
   ]
  }
 ],
 "metadata": {
  "kernelspec": {
   "display_name": "Python 3",
   "language": "python",
   "name": "python3"
  }
 },
 "nbformat": 4,
 "nbformat_minor": 4
}
