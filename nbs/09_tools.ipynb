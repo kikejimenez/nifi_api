{
 "cells": [
  {
   "cell_type": "code",
   "execution_count": 2,
   "metadata": {
    "execution": {
     "iopub.execute_input": "2021-02-24T18:21:47.397766Z",
     "iopub.status.busy": "2021-02-24T18:21:47.397574Z",
     "iopub.status.idle": "2021-02-24T18:21:47.414112Z",
     "shell.execute_reply": "2021-02-24T18:21:47.413980Z",
     "shell.execute_reply.started": "2021-02-24T18:21:47.397688Z"
    }
   },
   "outputs": [],
   "source": [
    "#hide\n",
    "%load_ext autoreload\n",
    "%autoreload 2"
   ]
  },
  {
   "cell_type": "code",
   "execution_count": 3,
   "metadata": {
    "execution": {
     "iopub.execute_input": "2021-02-24T18:21:47.414378Z",
     "iopub.status.busy": "2021-02-24T18:21:47.414286Z",
     "iopub.status.idle": "2021-02-24T18:21:47.438423Z",
     "shell.execute_reply": "2021-02-24T18:21:47.438313Z",
     "shell.execute_reply.started": "2021-02-24T18:21:47.414331Z"
    }
   },
   "outputs": [],
   "source": [
    "#default_exp tools"
   ]
  },
  {
   "cell_type": "code",
   "execution_count": 4,
   "metadata": {
    "execution": {
     "iopub.execute_input": "2021-02-24T18:21:47.438659Z",
     "iopub.status.busy": "2021-02-24T18:21:47.438577Z",
     "iopub.status.idle": "2021-02-24T18:21:47.532675Z",
     "shell.execute_reply": "2021-02-24T18:21:47.532498Z",
     "shell.execute_reply.started": "2021-02-24T18:21:47.438623Z"
    }
   },
   "outputs": [],
   "source": [
    "#export\n",
    "import json\n",
    "from nifi_api.environment import Vars"
   ]
  },
  {
   "cell_type": "markdown",
   "metadata": {
    "tags": []
   },
   "source": [
    "# Tools\n",
    "> Functions That Make Life Easier"
   ]
  },
  {
   "cell_type": "code",
   "execution_count": 5,
   "metadata": {
    "execution": {
     "iopub.execute_input": "2021-02-24T18:21:47.533059Z",
     "iopub.status.busy": "2021-02-24T18:21:47.532927Z",
     "iopub.status.idle": "2021-02-24T18:21:47.551702Z",
     "shell.execute_reply": "2021-02-24T18:21:47.551572Z",
     "shell.execute_reply.started": "2021-02-24T18:21:47.532996Z"
    }
   },
   "outputs": [],
   "source": [
    "# export\n",
    "\n",
    "def custom_response(res):\n",
    "    \"\"\" De-Serializes the JSON response\n",
    "    \"\"\"\n",
    "    try:\n",
    "        return json.loads(res.text), res\n",
    "    except:\n",
    "        return \"No JSON available\", res"
   ]
  },
  {
   "cell_type": "code",
   "execution_count": 6,
   "metadata": {
    "execution": {
     "iopub.execute_input": "2021-02-24T18:21:47.552011Z",
     "iopub.status.busy": "2021-02-24T18:21:47.551898Z",
     "iopub.status.idle": "2021-02-24T18:21:47.568779Z",
     "shell.execute_reply": "2021-02-24T18:21:47.568638Z",
     "shell.execute_reply.started": "2021-02-24T18:21:47.551960Z"
    }
   },
   "outputs": [],
   "source": [
    "#export\n",
    "\n",
    "\n",
    "def is_valid_csv(file):\n",
    "    \"\"\" A valid file is a csv file whose name is in a\n",
    "    set of valid names\n",
    "  \n",
    "    \"\"\"\n",
    "    valid_names = [\n",
    "        'agents',\n",
    "        'calls',\n",
    "        'summary',\n",
    "        'skills',\n",
    "        'teams',\n",
    "        'campaings',\n",
    "    ]\n",
    "\n",
    "    filename = file.split('/')[-1].split('.')\n",
    "    if len(filename) == 1:\n",
    "        return False\n",
    "\n",
    "    fname, ext = filename\n",
    "    is_valid_name = any(vname in fname for vname in valid_names)\n",
    "    return is_valid_name and ext.lower() == 'csv'"
   ]
  },
  {
   "cell_type": "code",
   "execution_count": 7,
   "metadata": {
    "execution": {
     "iopub.execute_input": "2021-02-24T18:21:47.569044Z",
     "iopub.status.busy": "2021-02-24T18:21:47.568937Z",
     "iopub.status.idle": "2021-02-24T18:21:47.587881Z",
     "shell.execute_reply": "2021-02-24T18:21:47.587710Z",
     "shell.execute_reply.started": "2021-02-24T18:21:47.568993Z"
    }
   },
   "outputs": [],
   "source": [
    "assert is_valid_csv('some/path/weirdwords_skills.csv')"
   ]
  },
  {
   "cell_type": "code",
   "execution_count": 8,
   "metadata": {
    "execution": {
     "iopub.execute_input": "2021-02-24T18:21:47.588233Z",
     "iopub.status.busy": "2021-02-24T18:21:47.588109Z",
     "iopub.status.idle": "2021-02-24T18:21:47.602346Z",
     "shell.execute_reply": "2021-02-24T18:21:47.602238Z",
     "shell.execute_reply.started": "2021-02-24T18:21:47.588171Z"
    }
   },
   "outputs": [],
   "source": [
    "#export\n",
    "\n",
    "\n",
    "def get_valid_names_in_connector(list_queues):\n",
    "    \"\"\" Gets a list of valid names from the list of queues\n",
    "    \"\"\"\n",
    "    flowfile_summaries = list_queues['listingRequest']['flowFileSummaries']\n",
    "    valid_uuids = [\n",
    "        ff['filename']\n",
    "        for ff in flowfile_summaries\n",
    "        if is_valid_csv(ff['filename'])\n",
    "    ]\n",
    "    return valid_uuids"
   ]
  },
  {
   "cell_type": "code",
   "execution_count": 9,
   "metadata": {
    "execution": {
     "iopub.execute_input": "2021-02-24T18:21:47.602619Z",
     "iopub.status.busy": "2021-02-24T18:21:47.602536Z",
     "iopub.status.idle": "2021-02-24T18:21:47.619104Z",
     "shell.execute_reply": "2021-02-24T18:21:47.618877Z",
     "shell.execute_reply.started": "2021-02-24T18:21:47.602576Z"
    }
   },
   "outputs": [],
   "source": [
    "#test\n",
    "example = {\n",
    "    'listingRequest': {\n",
    "        'flowFileSummaries': [{\n",
    "            'uuid': 'A',\n",
    "            'filename': \"enrique/source/\",\n",
    "            'position': 1,\n",
    "            'penalized': False\n",
    "        }, {\n",
    "            'uuid': 'B',\n",
    "            'filename': 'enrique/source/1_GB_agents.csv',\n",
    "        }, {\n",
    "            'uuid': 'C',\n",
    "            'filename':  'path/tofile/campaings.csv'\n",
    "        }]\n",
    "    }\n",
    "}\n",
    "\n",
    "def is_valid_example(fname):\n",
    "    return any(\n",
    "        fname == vname for vname in get_valid_names_in_connector(example))\n",
    "\n",
    "\n",
    "assert not is_valid_example('enrique/source/')\n",
    "assert is_valid_example('enrique/source/1_GB_agents.csv')\n",
    "assert is_valid_example('path/tofile/campaings.csv')"
   ]
  },
  {
   "cell_type": "code",
   "execution_count": 10,
   "metadata": {
    "execution": {
     "iopub.execute_input": "2021-02-24T18:21:47.619536Z",
     "iopub.status.busy": "2021-02-24T18:21:47.619400Z",
     "iopub.status.idle": "2021-02-24T18:21:48.134161Z",
     "shell.execute_reply": "2021-02-24T18:21:48.134036Z",
     "shell.execute_reply.started": "2021-02-24T18:21:47.619468Z"
    }
   },
   "outputs": [
    {
     "name": "stdout",
     "output_type": "stream",
     "text": [
      "Converted 01_environment.ipynb.\n",
      "Converted 02_rest.ipynb.\n",
      "Converted 03_dataflow.ipynb.\n",
      "Converted 04_source_to_refined.ipynb.\n",
      "Converted 09_tools.ipynb.\n",
      "Converted index.ipynb.\n"
     ]
    }
   ],
   "source": [
    "#hide\n",
    "from nbdev.export import notebook2script; notebook2script()"
   ]
  },
  {
   "cell_type": "code",
   "execution_count": null,
   "metadata": {},
   "outputs": [],
   "source": []
  }
 ],
 "metadata": {
  "kernelspec": {
   "display_name": "Python 3.8 (XPython)",
   "language": "python",
   "name": "xpython"
  },
  "language_info": {
   "file_extension": ".py",
   "mimetype": "text/x-python",
   "name": "python",
   "version": "3.8.7"
  }
 },
 "nbformat": 4,
 "nbformat_minor": 4
}
