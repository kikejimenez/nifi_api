{
 "cells": [
  {
   "cell_type": "code",
   "execution_count": null,
   "id": "collect-immune",
   "metadata": {},
   "outputs": [],
   "source": [
    "#default_exp dataflow"
   ]
  },
  {
   "cell_type": "code",
   "execution_count": null,
   "id": "color-bryan",
   "metadata": {},
   "outputs": [
    {
     "ename": "ModuleNotFoundError",
     "evalue": "No module named 'nifi_api.endpoints'",
     "output_type": "error",
     "traceback": [
      "\u001b[0;31m---------------------------------------------------------------------------\u001b[0m\n\u001b[0;31mModuleNotFoundError\u001b[0m                       Traceback (most recent call last)",
      "File \u001b[0;34m/opt/conda/lib/python3.8/site-packages/IPython/core/interactiveshell.py\u001b[0m, in \u001b[0;32mrun_code\u001b[0m:\nLine \u001b[0;34m3427\u001b[0m:  exec(code_obj, \u001b[36mself\u001b[39;49;00m.user_global_ns, \u001b[36mself\u001b[39;49;00m.user_ns)\n",
      "In  \u001b[0;34m[2]\u001b[0m:\nLine \u001b[0;34m2\u001b[0m:     \u001b[34mfrom\u001b[39;49;00m \u001b[04m\u001b[36mnifi_api\u001b[39;49;00m\u001b[04m\u001b[36m.\u001b[39;49;00m\u001b[04m\u001b[36mendpoints\u001b[39;49;00m \u001b[34mimport\u001b[39;49;00m *\n",
      "\u001b[0;31mModuleNotFoundError\u001b[0m: No module named 'nifi_api.endpoints'\n\u001b[0;31m---------------------------------------------------------------------------\u001b[0m"
     ]
    }
   ],
   "source": [
    "#export\n",
    "from nifi_api.endpoints import *\n",
    "from nifi_api.rest import Flowfile, Processor\n",
    "from nifi_api.tools import get_valid_uuids_in_connector"
   ]
  },
  {
   "cell_type": "markdown",
   "id": "imperial-combining",
   "metadata": {},
   "source": [
    "# Dataflow\n",
    "\n",
    ">   Monitor and control a Nifi Dataflow."
   ]
  },
  {
   "cell_type": "code",
   "execution_count": null,
   "id": "fitting-visiting",
   "metadata": {},
   "outputs": [],
   "source": [
    "#export\n",
    "class DataFlow:\n",
    "    \"\"\"\n",
    "Parameters\n",
    "--------\n",
    "\"\"\"\n",
    "\n",
    "    def __init__(\n",
    "        self,\n",
    "        in_connection_id: str,\n",
    "        out_connection_id: str,\n",
    "        in_processor_id: str,\n",
    "        out_processor_id: str,\n",
    "    ) -> None:\n",
    "        self.in_connection_id = in_connection_id\n",
    "        self.out_connection_id = out_connection_id\n",
    "        self.in_processor = Processor('in_processor_id')\n",
    "        self.out_processor = Processor('out_processor_id')\n",
    "\n",
    "    def is_done(self) -> bool:\n",
    "        return set(self.in_flowfiles) == set(self.out_flowfiles)\n",
    "\n",
    "    def get_incoming_flowfiles(self) -> None:\n",
    "        queues = Flowfile.list_queues(self.in_connection_id)\n",
    "        self.in_flowfiles = get_valid_uuids_in_connector(queues)\n",
    "\n",
    "    def get_outcoming_flowfiles(self) -> None:\n",
    "        queues = Flowfile.list_queues(self.out_connection_id)\n",
    "        self.out_flowfiles = get_valid_uuids_in_connector(queues)\n",
    "\n",
    "    def lifecycle(self) -> None:\n",
    "\n",
    "        self.get_incoming_flowfiles()\n",
    "        self.out_processor.update_run_status(\"STOPPED\")\n",
    "        self.in_processor.update_run_status(\"RUNNING\")\n",
    "        while True:\n",
    "\n",
    "            self.get_outcoming_flowfiles()\n",
    "\n",
    "            if self.is_done():\n",
    "                self.in_processor.update_run_status(\"STOPPED\")\n",
    "                self.out_processor.update_run_status(\"RUNNING\")\n",
    "                break"
   ]
  },
  {
   "cell_type": "code",
   "execution_count": null,
   "id": "painful-importance",
   "metadata": {},
   "outputs": [
    {
     "name": "stdout",
     "output_type": "stream",
     "text": [
      "Object `Processor` not found.\n"
     ]
    }
   ],
   "source": [
    "Processor?"
   ]
  },
  {
   "cell_type": "code",
   "execution_count": null,
   "id": "historical-atlantic",
   "metadata": {},
   "outputs": [],
   "source": []
  }
 ],
 "metadata": {
  "kernelspec": {
   "display_name": "Python 3.8 (XPython)",
   "language": "python",
   "name": "xpython"
  }
 },
 "nbformat": 4,
 "nbformat_minor": 5
}
