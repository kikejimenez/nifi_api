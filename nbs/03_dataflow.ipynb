{
 "cells": [
  {
   "cell_type": "code",
   "execution_count": null,
   "id": "seventh-modeling",
   "metadata": {},
   "outputs": [],
   "source": [
    "#default_exp dataflow"
   ]
  },
  {
   "cell_type": "code",
   "execution_count": null,
   "id": "general-refrigerator",
   "metadata": {},
   "outputs": [],
   "source": [
    "#export\n",
    "from nifi_api.endpoints import *\n",
    "from nifi_api.rest import Processor,Flowfile\n",
    "from nifi_api.tools import is_valid_csv"
   ]
  },
  {
   "cell_type": "markdown",
   "id": "massive-brighton",
   "metadata": {},
   "source": [
    "# Dataflow\n",
    "\n",
    "> Monitors Source To Raw Process"
   ]
  },
  {
   "cell_type": "code",
   "execution_count": null,
   "id": "wrapped-silicon",
   "metadata": {},
   "outputs": [
    {
     "data": {
      "text/plain": [
       "{'S3ListSuccessConnection': {'Id': 'a9bc3f88-5f2d-1559-9c2d-625d8a66e5c8',\n",
       "  'description': \"S3 Bucket Check Files Processor's Success Relationship\"},\n",
       " 'RouteOnFilenameProcessor': {'Id': '1ac4364b-5f00-16b3-aee1-e15d8ad527ff',\n",
       "  'description': 'Processor that filter an incoming list of CSVs'}}"
      ]
     },
     "execution_count": null,
     "metadata": {},
     "output_type": "execute_result"
    }
   ],
   "source": [
    "SOURCE_TO_RAW_IDS"
   ]
  },
  {
   "cell_type": "code",
   "execution_count": null,
   "id": "charitable-network",
   "metadata": {},
   "outputs": [],
   "source": [
    "class SourceToRaw:\n",
    "    \n",
    "    first_connection = SOURCE_TO_RAW_IDS['S3ListSuccessConnection']['Id']\n",
    "    first_processor = SOURCE_TO_RAW_IDS['RouteOnFilenameProcessor']['Id']\n",
    "\n",
    "    @classmethod\n",
    "    def start(cls):\n",
    "        pass\n",
    "    \n",
    "    \n",
    "    @classmethod\n",
    "    def stop(cls):\n",
    "        pass\n",
    "    "
   ]
  },
  {
   "cell_type": "code",
   "execution_count": null,
   "id": "specialized-arctic",
   "metadata": {},
   "outputs": [
    {
     "data": {
      "text/plain": [
       "({'listingRequest': {'id': 'b7d8c13c-0177-1000-ffff-ffffe17f8608',\n",
       "   'uri': 'https://learn-cluster-master0.sibatel.xo7z-6zib.cloudera.site:443/learn-cluster/cdp-proxy-api/nifi-app/nifi-api/flowfile-queues/a9bc3f88-5f2d-1559-9c2d-625d8a66e5c8/listing-requests/b7d8c13c-0177-1000-ffff-ffffe17f8608',\n",
       "   'submissionTime': '02/19/2021 01:12:51.821 UTC',\n",
       "   'lastUpdated': '01:12:51 UTC',\n",
       "   'percentCompleted': 1,\n",
       "   'finished': True,\n",
       "   'maxResults': 100,\n",
       "   'state': 'Completed successfully',\n",
       "   'queueSize': {'byteCount': 0, 'objectCount': 3},\n",
       "   'flowFileSummaries': [{'uri': 'https://learn-cluster-master0.sibatel.xo7z-6zib.cloudera.site:443/learn-cluster/cdp-proxy-api/nifi-app/nifi-api/flowfile-queues/a9bc3f88-5f2d-1559-9c2d-625d8a66e5c8/flowfiles/fba98d4f-a739-4952-9b96-120ce2b3725c',\n",
       "     'uuid': 'fba98d4f-a739-4952-9b96-120ce2b3725c',\n",
       "     'filename': 'cdp-data/resources/enrique/source/',\n",
       "     'position': 1,\n",
       "     'size': 0,\n",
       "     'queuedDuration': 172129888,\n",
       "     'lineageDuration': 172129888,\n",
       "     'penaltyExpiresIn': 0,\n",
       "     'clusterNodeId': 'dd3f17cd-dafd-4b88-b7b6-56e58ad52a7a',\n",
       "     'clusterNodeAddress': 'learn-cluster-worker0.sibatel.xo7z-6zib.cloudera.site:8443',\n",
       "     'penalized': False},\n",
       "    {'uri': 'https://learn-cluster-master0.sibatel.xo7z-6zib.cloudera.site:443/learn-cluster/cdp-proxy-api/nifi-app/nifi-api/flowfile-queues/a9bc3f88-5f2d-1559-9c2d-625d8a66e5c8/flowfiles/ddb8975f-fc89-488e-8d85-658972f93a33',\n",
       "     'uuid': 'ddb8975f-fc89-488e-8d85-658972f93a33',\n",
       "     'filename': 'cdp-data/resources/enrique/source/1_GB_agents.csv',\n",
       "     'position': 2,\n",
       "     'size': 0,\n",
       "     'queuedDuration': 172129888,\n",
       "     'lineageDuration': 172129888,\n",
       "     'penaltyExpiresIn': 0,\n",
       "     'clusterNodeId': 'dd3f17cd-dafd-4b88-b7b6-56e58ad52a7a',\n",
       "     'clusterNodeAddress': 'learn-cluster-worker0.sibatel.xo7z-6zib.cloudera.site:8443',\n",
       "     'penalized': False},\n",
       "    {'uri': 'https://learn-cluster-master0.sibatel.xo7z-6zib.cloudera.site:443/learn-cluster/cdp-proxy-api/nifi-app/nifi-api/flowfile-queues/a9bc3f88-5f2d-1559-9c2d-625d8a66e5c8/flowfiles/daf46ec4-2398-4ce5-adca-e07eabc9931f',\n",
       "     'uuid': 'daf46ec4-2398-4ce5-adca-e07eabc9931f',\n",
       "     'filename': 'cdp-data/resources/enrique/source/campaigns.csv',\n",
       "     'position': 3,\n",
       "     'size': 0,\n",
       "     'queuedDuration': 172129888,\n",
       "     'lineageDuration': 172129888,\n",
       "     'penaltyExpiresIn': 0,\n",
       "     'clusterNodeId': 'dd3f17cd-dafd-4b88-b7b6-56e58ad52a7a',\n",
       "     'clusterNodeAddress': 'learn-cluster-worker0.sibatel.xo7z-6zib.cloudera.site:8443',\n",
       "     'penalized': False}],\n",
       "   'sourceRunning': False,\n",
       "   'destinationRunning': False}},\n",
       " <Response [200]>)"
      ]
     },
     "execution_count": null,
     "metadata": {},
     "output_type": "execute_result"
    }
   ],
   "source": [
    "connection = SOURCE_TO_RAW_IDS['S3ListSuccessConnection']['Id']\n",
    "Flowfile.list_queues(connection)"
   ]
  },
  {
   "cell_type": "code",
   "execution_count": null,
   "id": "indirect-massage",
   "metadata": {},
   "outputs": [],
   "source": [
    "class DataFlow:\n",
    "    \n",
    "    def __init__(self) -> None:\n",
    "        self.init_connector: str\n",
    "        self.init_processor: str\n",
    "        self.final_connector: str\n",
    "        self.final_processor: str\n",
    "    #def __init__(self,init_connector,init_processor,final_connector,final_processor):\n",
    "    #    self.init_connector: =\n",
    "    \n",
    "    \n",
    "    @classmethod\n",
    "    def switch_status(cls,status=\"RUNNING\"):\n",
    "        pass\n",
    "    \n",
    "    @classmethod\n",
    "    def count_flowfiles(cls,connection_id):\n",
    "        list_queues = Flowfile.list_queues(connection_id)\n",
    "\n",
    "        pass\n",
    "        \n"
   ]
  },
  {
   "cell_type": "code",
   "execution_count": null,
   "id": "missing-snapshot",
   "metadata": {},
   "outputs": [
    {
     "data": {
      "text/plain": [
       "'flowFileSummaries'"
      ]
     },
     "execution_count": null,
     "metadata": {},
     "output_type": "execute_result"
    }
   ],
   "source": [
    "'flowFileSummaries'"
   ]
  }
 ],
 "metadata": {
  "kernelspec": {
   "display_name": "Python 3",
   "language": "python",
   "name": "python3"
  }
 },
 "nbformat": 4,
 "nbformat_minor": 5
}
