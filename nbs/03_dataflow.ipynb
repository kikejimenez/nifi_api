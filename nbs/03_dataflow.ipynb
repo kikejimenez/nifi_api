{
 "cells": [
  {
   "cell_type": "code",
   "execution_count": 1,
   "id": "smart-consensus",
   "metadata": {},
   "outputs": [],
   "source": [
    "#hide\n",
    "%load_ext autoreload\n",
    "%autoreload 2"
   ]
  },
  {
   "cell_type": "code",
   "execution_count": 9,
   "id": "public-floating",
   "metadata": {},
   "outputs": [],
   "source": [
    "#default_exp dataflow"
   ]
  },
  {
   "cell_type": "code",
   "execution_count": 10,
   "id": "vietnamese-jacob",
   "metadata": {},
   "outputs": [],
   "source": [
    "#export\n",
    "\n",
    "import time\n",
    "\n",
    "from nifi_api.environment import Vars, NifiIds\n",
    "from nifi_api.rest import Flowfiles, Processor"
   ]
  },
  {
   "cell_type": "markdown",
   "id": "facial-float",
   "metadata": {
    "tags": []
   },
   "source": [
    "# Dataflow\n",
    "\n",
    ">   Monitors and controls a Nifi Dataflow."
   ]
  },
  {
   "cell_type": "code",
   "execution_count": 11,
   "id": "mysterious-amsterdam",
   "metadata": {
    "tags": []
   },
   "outputs": [],
   "source": [
    "#export\n",
    "\n",
    "\n",
    "class DataFlow:\n",
    "    \"\"\"\n",
    "    Monitors and controls a Nifi dataflow. The dataflow starts\n",
    "    when the **run** method is called.\n",
    "\n",
    "    Parameters\n",
    "   -------------\n",
    "\n",
    "      dataFlowIds: DataFlowIds\n",
    "        data structure that contains all the IDs of the in/out\n",
    "        processors and connections\n",
    "\n",
    "\"\"\"\n",
    "\n",
    "    def __init__(\n",
    "        self,\n",
    "        dataFlowIds: object,\n",
    "    ) -> None:\n",
    "        self.in_processor = Processor(dataFlowIds.in_processor)\n",
    "        self.in_flowfiles = Flowfiles(dataFlowIds.in_connection)\n",
    "        self.middle_processor = Processor(dataFlowIds.middle_processor)\n",
    "        self.out_processor = Processor(dataFlowIds.out_processor)\n",
    "        self.out_flowfiles = Flowfiles(dataFlowIds.out_connection)\n",
    "\n",
    "    def run(self) -> None:\n",
    "\n",
    "        self.out_processor.update_run_status(\"STOPPED\")\n",
    "        self.in_processor.update_run_status(\"RUNNING\")\n",
    "        time.sleep(Vars.seconds_after_start)\n",
    "        self.in_flowfiles.get_ids()\n",
    "        self.middle_processor.update_run_status(\"RUNNING\")\n",
    "        self.in_processor.update_run_status(\"STOPPED\")\n",
    "\n",
    "        while True:\n",
    "\n",
    "            self.out_flowfiles.get_ids()\n",
    "\n",
    "            if self.in_flowfiles.equals(self.out_flowfiles):\n",
    "\n",
    "                self.middle_processor.update_run_status(\"STOPPED\")\n",
    "                self.out_processor.update_run_status(\"RUNNING\")\n",
    "                print(\"Pipeline watching has finished ...\")\n",
    "                break\n",
    "            time.sleep(Vars.seconds_between_checks)"
   ]
  },
  {
   "cell_type": "code",
   "execution_count": 12,
   "id": "dutch-addition",
   "metadata": {},
   "outputs": [],
   "source": [
    "# Test\n",
    "# Uses the group processor *Test API* in the Cloudera session.\n",
    "\n",
    "# 1.Turn-off all the processors, except the processor \"Four\"."
   ]
  },
  {
   "cell_type": "code",
   "execution_count": 13,
   "id": "stopped-dictionary",
   "metadata": {},
   "outputs": [],
   "source": [
    "# 3.Generate the data structure with the\n",
    "#    connections and processors Ids\n",
    "\n",
    "from nifi_api.environment import DataFlowIds\n",
    "pipeline = {\n",
    "    \"in_connection\": {\n",
    "        \"Id\": \"cc549c6e-0177-1000-ffff-ffffb5d2aba2\",\n",
    "        \"name\": \"One -- Two\"\n",
    "    },\n",
    "    \"out_connection\": {\n",
    "        \"Id\": \"51ab3b24-084f-1309-0000-00001946f2c7\",\n",
    "        \"name\": \"Three -- Four\"\n",
    "    },\n",
    "    \"in_processor\": {\n",
    "        \"Id\": \"36c62ad6-d606-3b04-9743-d77b6249608c\",\n",
    "        \"name\": \"One\"\n",
    "    },\n",
    "    \"middle_processor\": {\n",
    "        \"Id\": \"cc54862f-0177-1000-ffff-ffffe7325a20\",\n",
    "        \"name\": \"Two\"\n",
    "    },\n",
    "    \"out_processor\": {\n",
    "        \"Id\": \"51ab3b1e-084f-1309-a135-aa0100d7186b\",\n",
    "        \"name\": \"Four\"\n",
    "    },\n",
    "}\n",
    "test_data_ids = DataFlowIds(pipeline)"
   ]
  },
  {
   "cell_type": "code",
   "execution_count": 14,
   "id": "intellectual-piano",
   "metadata": {},
   "outputs": [],
   "source": [
    "# 4. Instantiate the DataFlow class and call the run method. Check\n",
    "#    that processor \"Two\" has turned ON and \"One\" and \"Four\"\n",
    "#    have turned OFF\n",
    "test_dataflow = DataFlow(test_data_ids)"
   ]
  },
  {
   "cell_type": "code",
   "execution_count": null,
   "id": "alive-programmer",
   "metadata": {
    "tags": []
   },
   "outputs": [],
   "source": [
    "test_dataflow.run()"
   ]
  },
  {
   "cell_type": "code",
   "execution_count": null,
   "id": "wireless-sheet",
   "metadata": {},
   "outputs": [],
   "source": [
    "# 5. Finally, turn ON the processor \"Three\". Check that the\n",
    "# **run** method has exited and processors \"Two\" and\n",
    "# \"Four\" are OFF and ON, respectively.\n",
    "\n",
    "# 6. End of the test"
   ]
  },
  {
   "cell_type": "code",
   "execution_count": 2,
   "id": "minimal-clinic",
   "metadata": {},
   "outputs": [
    {
     "name": "stdout",
     "output_type": "stream",
     "text": [
      "Converted 01_environment.ipynb.\n",
      "Converted 02_rest.ipynb.\n",
      "Converted 03_dataflow.ipynb.\n",
      "Converted 04_source_to_refined.ipynb.\n",
      "Converted 09_tools.ipynb.\n",
      "Converted index.ipynb.\n"
     ]
    }
   ],
   "source": [
    "#hide\n",
    "from nbdev.export import notebook2script; notebook2script()"
   ]
  },
  {
   "cell_type": "code",
   "execution_count": null,
   "id": "interesting-model",
   "metadata": {},
   "outputs": [],
   "source": []
  }
 ],
 "metadata": {
  "kernelspec": {
   "display_name": "Python 3.8 (XPython)",
   "language": "python",
   "name": "xpython"
  },
  "language_info": {
   "file_extension": ".py",
   "mimetype": "text/x-python",
   "name": "python",
   "version": "3.8.7"
  }
 },
 "nbformat": 4,
 "nbformat_minor": 5
}
