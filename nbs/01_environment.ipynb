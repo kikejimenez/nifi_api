{
 "cells": [
  {
   "cell_type": "code",
   "execution_count": null,
   "metadata": {},
   "outputs": [],
   "source": [
    "#default_exp environment"
   ]
  },
  {
   "cell_type": "code",
   "execution_count": null,
   "metadata": {},
   "outputs": [],
   "source": [
    "#export\n",
    "import requests\n",
    "from os import environ\n",
    "import json "
   ]
  },
  {
   "cell_type": "markdown",
   "metadata": {},
   "source": [
    "# Environment\n",
    "> Set variables for: username and password; nifi endpoints; nifi ids."
   ]
  },
  {
   "cell_type": "code",
   "execution_count": null,
   "metadata": {},
   "outputs": [],
   "source": [
    "#export\n",
    "class Credentials:\n",
    "\n",
    "    user = environ['CLOUDERA_USER']\n",
    "    password = environ['CLOUDERA_PASS']\n",
    "    credentials = (user, password)"
   ]
  },
  {
   "cell_type": "code",
   "execution_count": null,
   "metadata": {},
   "outputs": [],
   "source": [
    "#export\n",
    "class NifiEndpoint:\n",
    "\n",
    "    cluster = environ['CLOUDERA_CLUSTER']\n",
    "    nifi_rest = cluster + environ['CLOUDERA_NIFI_REST']\n",
    "    processors = nifi_rest + \"processors/\"\n",
    "    connections = nifi_rest + \"connections/\"\n",
    "    flowfile_queues = nifi_rest + \"flowfile-queues/\""
   ]
  },
  {
   "cell_type": "code",
   "execution_count": null,
   "metadata": {},
   "outputs": [],
   "source": [
    "#export\n",
    "\n",
    "\n",
    "class DataFlowIds:\n",
    "    \"\"\"\n",
    "Dataflow uuids. Every valid DataFlow must have initial/final connections\n",
    "        and processors.\n",
    "        \"\"\"\n",
    "\n",
    "    def __init__(\n",
    "        self,\n",
    "        pipeline: dict,\n",
    "    ) -> None:\n",
    "        self.in_connection = pipeline['in_connection']['Id']\n",
    "        self.out_connection = pipeline['out_connection']['Id']\n",
    "        self.in_processor = pipeline['in_processor']['Id']\n",
    "        self.out_processor = pipeline['out_processor']['Id']\n",
    "\n",
    "\n",
    "class NifiIds:\n",
    "\n",
    "    nifi_json_ids = json.load(open(environ['CONFIG_FILE']))['NifiIds']\n",
    "\n",
    "    sourceToRaw = DataFlowIds(pipeline=nifi_json_ids['SourceToRaw'])"
   ]
  },
  {
   "cell_type": "code",
   "execution_count": null,
   "metadata": {},
   "outputs": [],
   "source": [
    "#export\n",
    "\n",
    "class Vars:\n",
    "    config_file = json.load(open(environ['CONFIG_FILE']))\n",
    "    seconds_between_checks = config_file['SecondsBetweenChecks']"
   ]
  },
  {
   "cell_type": "code",
   "execution_count": null,
   "metadata": {},
   "outputs": [],
   "source": []
  }
 ],
 "metadata": {
  "kernelspec": {
   "display_name": "Python 3",
   "language": "python",
   "name": "python3"
  }
 },
 "nbformat": 4,
 "nbformat_minor": 4
}
