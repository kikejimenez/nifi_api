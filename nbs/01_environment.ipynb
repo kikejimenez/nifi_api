{
 "cells": [
  {
   "cell_type": "code",
   "execution_count": 3,
   "metadata": {},
   "outputs": [
    {
     "name": "stdout",
     "output_type": "stream",
     "text": [
      "The autoreload extension is already loaded. To reload it, use:\n",
      "  %reload_ext autoreload\n"
     ]
    }
   ],
   "source": [
    "#hide\n",
    "%load_ext autoreload\n",
    "%autoreload 2"
   ]
  },
  {
   "cell_type": "code",
   "execution_count": 4,
   "metadata": {},
   "outputs": [],
   "source": [
    "#default_exp environment"
   ]
  },
  {
   "cell_type": "code",
   "execution_count": 5,
   "metadata": {},
   "outputs": [],
   "source": [
    "#export\n",
    "import requests\n",
    "from os import environ\n",
    "import json "
   ]
  },
  {
   "cell_type": "markdown",
   "metadata": {},
   "source": [
    "# Environment\n",
    "> Set variables for: username and password; nifi endpoints; nifi ids."
   ]
  },
  {
   "cell_type": "code",
   "execution_count": 6,
   "metadata": {},
   "outputs": [],
   "source": [
    "#export\n",
    "class Credentials:\n",
    "\n",
    "    user = environ['CLOUDERA_USER']\n",
    "    password = environ['CLOUDERA_PASS']\n",
    "    credentials = (user, password)"
   ]
  },
  {
   "cell_type": "code",
   "execution_count": 7,
   "metadata": {},
   "outputs": [],
   "source": [
    "#export\n",
    "class NifiEndpoint:\n",
    "\n",
    "    cluster = environ['CLOUDERA_CLUSTER']\n",
    "    nifi_rest = cluster + environ['CLOUDERA_NIFI_REST']\n",
    "    processors = nifi_rest + \"processors/\"\n",
    "    connections = nifi_rest + \"connections/\"\n",
    "    flowfile_queues = nifi_rest + \"flowfile-queues/\""
   ]
  },
  {
   "cell_type": "code",
   "execution_count": 8,
   "metadata": {},
   "outputs": [],
   "source": [
    "#export\n",
    "\n",
    "\n",
    "class DataFlowIds:\n",
    "    \"\"\" Dataflow uuids. Every valid DataFlow must have initial-middle-final\n",
    "        procesors and initial-final connections\n",
    "        \"\"\"\n",
    "\n",
    "    def __init__(\n",
    "        self,\n",
    "        pipeline: dict,\n",
    "    ) -> None:\n",
    "        self.in_connection = pipeline['in_connection']['Id']\n",
    "        self.in_processor = pipeline['in_processor']['Id']\n",
    "        self.middle_processor = pipeline['middle_processor']['Id']\n",
    "        self.out_connection = pipeline['out_connection']['Id']\n",
    "        self.out_processor = pipeline['out_processor']['Id']\n",
    "\n",
    "\n",
    "class NifiIds:\n",
    "    \"\"\" The collection of the DataFlowIds:\n",
    "          - source to raw\n",
    "          - raw to discovery\n",
    "          - discovery to refined\n",
    "    \"\"\"\n",
    "\n",
    "    nifi_json_ids = json.load(open(environ['CONFIG_FILE']))['NifiIds']\n",
    "\n",
    "    sourceToRaw = DataFlowIds(pipeline=nifi_json_ids['SourceToRaw'])\n",
    "    rawToDiscovery = DataFlowIds(pipeline=nifi_json_ids['RawToDiscovery'])\n",
    "    discoveryToRefined = DataFlowIds(\n",
    "        pipeline=nifi_json_ids['DiscoveryToRefined'])"
   ]
  },
  {
   "cell_type": "code",
   "execution_count": 9,
   "metadata": {},
   "outputs": [],
   "source": [
    "#export\n",
    "\n",
    "class Vars:\n",
    "    config_file = json.load(open(environ['CONFIG_FILE']))\n",
    "    seconds_between_checks = config_file['DelaySeconds']['BetweenChecks']\n",
    "    seconds_after_start = config_file['DelaySeconds']['AfterStart']"
   ]
  },
  {
   "cell_type": "code",
   "execution_count": 12,
   "metadata": {},
   "outputs": [
    {
     "name": "stdout",
     "output_type": "stream",
     "text": [
      "Converted 01_environment.ipynb.\n",
      "Converted 02_rest.ipynb.\n",
      "Converted 03_dataflow.ipynb.\n",
      "Converted 04_source_to_refined.ipynb.\n",
      "Converted 09_tools.ipynb.\n",
      "Converted index.ipynb.\n"
     ]
    }
   ],
   "source": [
    "#hide\n",
    "from nbdev.export import notebook2script; notebook2script()"
   ]
  }
 ],
 "metadata": {
  "kernelspec": {
   "display_name": "Python 3.8 (XPython)",
   "language": "python",
   "name": "xpython"
  },
  "language_info": {
   "file_extension": ".py",
   "mimetype": "text/x-python",
   "name": "python",
   "version": "3.8.7"
  }
 },
 "nbformat": 4,
 "nbformat_minor": 4
}
