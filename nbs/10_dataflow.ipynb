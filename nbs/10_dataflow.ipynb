{
 "cells": [
  {
   "cell_type": "code",
   "execution_count": null,
   "id": "practical-august",
   "metadata": {},
   "outputs": [],
   "source": [
    "#default_exp dataflow"
   ]
  },
  {
   "cell_type": "code",
   "execution_count": null,
   "id": "burning-wilson",
   "metadata": {},
   "outputs": [
    {
     "ename": "ImportError",
     "evalue": "cannot import name 'custom_response' from 'nifi_api.tools' (/wd/nbs/nifi_api/tools.py)",
     "output_type": "error",
     "traceback": [
      "\u001b[0;31m---------------------------------------------------------------------------\u001b[0m",
      "\u001b[0;31mImportError\u001b[0m                               Traceback (most recent call last)",
      "\u001b[0;32m<ipython-input-1-64328b8ce377>\u001b[0m in \u001b[0;36m<module>\u001b[0;34m\u001b[0m\n\u001b[1;32m      1\u001b[0m \u001b[0;31m#export\u001b[0m\u001b[0;34m\u001b[0m\u001b[0;34m\u001b[0m\u001b[0;34m\u001b[0m\u001b[0m\n\u001b[1;32m      2\u001b[0m \u001b[0;32mfrom\u001b[0m \u001b[0mnifi_api\u001b[0m\u001b[0;34m.\u001b[0m\u001b[0mendpoints\u001b[0m \u001b[0;32mimport\u001b[0m \u001b[0;34m*\u001b[0m\u001b[0;34m\u001b[0m\u001b[0;34m\u001b[0m\u001b[0m\n\u001b[0;32m----> 3\u001b[0;31m \u001b[0;32mfrom\u001b[0m \u001b[0mnifi_api\u001b[0m\u001b[0;34m.\u001b[0m\u001b[0mrest\u001b[0m \u001b[0;32mimport\u001b[0m \u001b[0mProcessor\u001b[0m\u001b[0;34m,\u001b[0m\u001b[0mFlowfile\u001b[0m\u001b[0;34m\u001b[0m\u001b[0;34m\u001b[0m\u001b[0m\n\u001b[0m",
      "\u001b[0;32m/wd/nbs/nifi_api/rest.py\u001b[0m in \u001b[0;36m<module>\u001b[0;34m\u001b[0m\n\u001b[1;32m      6\u001b[0m \u001b[0;32mimport\u001b[0m \u001b[0mrequests\u001b[0m\u001b[0;34m\u001b[0m\u001b[0;34m\u001b[0m\u001b[0m\n\u001b[1;32m      7\u001b[0m \u001b[0;32mfrom\u001b[0m \u001b[0;34m.\u001b[0m\u001b[0mendpoints\u001b[0m \u001b[0;32mimport\u001b[0m \u001b[0;34m*\u001b[0m\u001b[0;34m\u001b[0m\u001b[0;34m\u001b[0m\u001b[0m\n\u001b[0;32m----> 8\u001b[0;31m \u001b[0;32mfrom\u001b[0m \u001b[0;34m.\u001b[0m\u001b[0mtools\u001b[0m \u001b[0;32mimport\u001b[0m \u001b[0mcustom_response\u001b[0m\u001b[0;34m\u001b[0m\u001b[0;34m\u001b[0m\u001b[0m\n\u001b[0m\u001b[1;32m      9\u001b[0m \u001b[0;32mimport\u001b[0m \u001b[0mjson\u001b[0m\u001b[0;34m\u001b[0m\u001b[0;34m\u001b[0m\u001b[0m\n\u001b[1;32m     10\u001b[0m \u001b[0;34m\u001b[0m\u001b[0m\n",
      "\u001b[0;31mImportError\u001b[0m: cannot import name 'custom_response' from 'nifi_api.tools' (/wd/nbs/nifi_api/tools.py)"
     ]
    }
   ],
   "source": [
    "#export\n",
    "from nifi_api.endpoints import *\n",
    "from nifi_api.rest import Processor,Flowfile"
   ]
  },
  {
   "cell_type": "markdown",
   "id": "special-deviation",
   "metadata": {},
   "source": [
    "# Dataflow\n",
    "\n",
    "> Monitors Source To Raw Process"
   ]
  },
  {
   "cell_type": "code",
   "execution_count": null,
   "id": "adequate-religious",
   "metadata": {},
   "outputs": [
    {
     "data": {
      "text/plain": [
       "{'S3ListSuccessConnection': {'Id': 'a9bc3f88-5f2d-1559-9c2d-625d8a66e5c8',\n",
       "  'description': \"S3 Bucket Check Files Processor's Success Relationship\"},\n",
       " 'RouteOnFilenameProcessor': {'Id': '1ac4364b-5f00-16b3-aee1-e15d8ad527ff',\n",
       "  'description': 'Processor that filter an incoming list of CSVs'}}"
      ]
     },
     "execution_count": null,
     "metadata": {},
     "output_type": "execute_result"
    }
   ],
   "source": [
    "SOURCE_TO_RAW_IDS"
   ]
  },
  {
   "cell_type": "code",
   "execution_count": null,
   "id": "pharmaceutical-messaging",
   "metadata": {},
   "outputs": [
    {
     "ename": "SyntaxError",
     "evalue": "invalid syntax (<ipython-input-4-a465afc09256>, line 5)",
     "output_type": "error",
     "traceback": [
      "\u001b[0;36m  File \u001b[0;32m\"<ipython-input-4-a465afc09256>\"\u001b[0;36m, line \u001b[0;32m5\u001b[0m\n\u001b[0;31m    last_connection =\u001b[0m\n\u001b[0m                     ^\u001b[0m\n\u001b[0;31mSyntaxError\u001b[0m\u001b[0;31m:\u001b[0m invalid syntax\n"
     ]
    }
   ],
   "source": [
    "class SourceToRaw:\n",
    "    \n",
    "    first_connection = SOURCE_TO_RAW_IDS['S3ListSuccessConnection']['Id']\n",
    "    first_processor = SOURCE_TO_RAW_IDS['RouteOnFilenameProcessor']['Id']\n",
    "    last_connection =\n",
    "    last_processor =\n",
    "    \n",
    "    @classmethod\n",
    "    def start(cls):\n",
    "    \n",
    "    \n",
    "    @classmethod\n",
    "    def stop(cls)\n",
    "    "
   ]
  },
  {
   "cell_type": "code",
   "execution_count": null,
   "id": "anticipated-notice",
   "metadata": {},
   "outputs": [
    {
     "ename": "NameError",
     "evalue": "name 'custom_response' is not defined",
     "output_type": "error",
     "traceback": [
      "\u001b[0;31m---------------------------------------------------------------------------\u001b[0m",
      "\u001b[0;31mNameError\u001b[0m                                 Traceback (most recent call last)",
      "\u001b[0;32m<ipython-input-4-327a2aa368ca>\u001b[0m in \u001b[0;36m<module>\u001b[0;34m\u001b[0m\n\u001b[1;32m      1\u001b[0m \u001b[0mconnection\u001b[0m \u001b[0;34m=\u001b[0m \u001b[0mSOURCE_TO_RAW_IDS\u001b[0m\u001b[0;34m[\u001b[0m\u001b[0;34m'S3ListSuccessConnection'\u001b[0m\u001b[0;34m]\u001b[0m\u001b[0;34m[\u001b[0m\u001b[0;34m'Id'\u001b[0m\u001b[0;34m]\u001b[0m\u001b[0;34m\u001b[0m\u001b[0;34m\u001b[0m\u001b[0m\n\u001b[0;32m----> 2\u001b[0;31m \u001b[0mFlowfile\u001b[0m\u001b[0;34m.\u001b[0m\u001b[0mlist_queues\u001b[0m\u001b[0;34m(\u001b[0m\u001b[0mconnection\u001b[0m\u001b[0;34m)\u001b[0m\u001b[0;34m\u001b[0m\u001b[0;34m\u001b[0m\u001b[0m\n\u001b[0m",
      "\u001b[0;32m/wd/nbs/nifi_api/rest.py\u001b[0m in \u001b[0;36mlist_queues\u001b[0;34m(cls, connection_id)\u001b[0m\n\u001b[1;32m     87\u001b[0m         \u001b[0murl\u001b[0m \u001b[0;34m=\u001b[0m \u001b[0mcls\u001b[0m\u001b[0;34m.\u001b[0m\u001b[0mnifi_api\u001b[0m \u001b[0;34m+\u001b[0m \u001b[0;34mf\"{connection_id}/listing-requests\"\u001b[0m\u001b[0;34m\u001b[0m\u001b[0;34m\u001b[0m\u001b[0m\n\u001b[1;32m     88\u001b[0m         \u001b[0mres\u001b[0m \u001b[0;34m=\u001b[0m \u001b[0mrequests\u001b[0m\u001b[0;34m.\u001b[0m\u001b[0mpost\u001b[0m\u001b[0;34m(\u001b[0m\u001b[0murl\u001b[0m\u001b[0;34m,\u001b[0m \u001b[0mauth\u001b[0m\u001b[0;34m=\u001b[0m\u001b[0mCLOUDERA_CREDENTIALS\u001b[0m\u001b[0;34m)\u001b[0m\u001b[0;34m\u001b[0m\u001b[0;34m\u001b[0m\u001b[0m\n\u001b[0;32m---> 89\u001b[0;31m         \u001b[0;32mreturn\u001b[0m \u001b[0mcustom_response\u001b[0m\u001b[0;34m(\u001b[0m\u001b[0mres\u001b[0m\u001b[0;34m)\u001b[0m\u001b[0;34m\u001b[0m\u001b[0;34m\u001b[0m\u001b[0m\n\u001b[0m",
      "\u001b[0;31mNameError\u001b[0m: name 'custom_response' is not defined"
     ]
    }
   ],
   "source": [
    "connection = SOURCE_TO_RAW_IDS['S3ListSuccessConnection']['Id']\n",
    "Flowfile.list_queues(connection)"
   ]
  },
  {
   "cell_type": "code",
   "execution_count": null,
   "id": "metric-charge",
   "metadata": {},
   "outputs": [],
   "source": [
    "class DataFlow:\n",
    "    \n",
    "    def __init__(self) -> None:\n",
    "        self.init_connector: str\n",
    "        self.init_processor: str\n",
    "        self.final_connector: str\n",
    "        self.final_processor: str\n",
    "    #def __init__(self,init_connector,init_processor,final_connector,final_processor):\n",
    "    #    self.init_connector: =\n",
    "    \n",
    "    \n",
    "    @classmethod\n",
    "    def switch_status(cls,status=\"RUNNING\"):\n",
    "        pass\n",
    "    \n",
    "    @classmethod\n",
    "    def query_connector(cls,):\n",
    "        pass\n",
    "        \n"
   ]
  },
  {
   "cell_type": "code",
   "execution_count": null,
   "id": "handmade-camcorder",
   "metadata": {},
   "outputs": [],
   "source": []
  }
 ],
 "metadata": {
  "kernelspec": {
   "display_name": "Python 3",
   "language": "python",
   "name": "python3"
  }
 },
 "nbformat": 4,
 "nbformat_minor": 5
}
