{
 "cells": [
  {
   "cell_type": "code",
   "execution_count": null,
   "id": "respective-speech",
   "metadata": {},
   "outputs": [],
   "source": [
    "#default_exp rest"
   ]
  },
  {
   "cell_type": "code",
   "execution_count": null,
   "id": "positive-hampshire",
   "metadata": {},
   "outputs": [
    {
     "ename": "ImportError",
     "evalue": "cannot import name 'custom_response' from 'nifi_api.tools' (/wd/nbs/nifi_api/tools.py)",
     "output_type": "error",
     "traceback": [
      "\u001b[0;31m---------------------------------------------------------------------------\u001b[0m",
      "\u001b[0;31mImportError\u001b[0m                               Traceback (most recent call last)",
      "\u001b[0;32m<ipython-input-12-4c7c74248657>\u001b[0m in \u001b[0;36m<module>\u001b[0;34m\u001b[0m\n\u001b[1;32m      2\u001b[0m \u001b[0;32mimport\u001b[0m \u001b[0mrequests\u001b[0m\u001b[0;34m\u001b[0m\u001b[0;34m\u001b[0m\u001b[0m\n\u001b[1;32m      3\u001b[0m \u001b[0;32mfrom\u001b[0m \u001b[0mnifi_api\u001b[0m\u001b[0;34m.\u001b[0m\u001b[0mendpoints\u001b[0m \u001b[0;32mimport\u001b[0m \u001b[0;34m*\u001b[0m\u001b[0;34m\u001b[0m\u001b[0;34m\u001b[0m\u001b[0m\n\u001b[0;32m----> 4\u001b[0;31m \u001b[0;32mfrom\u001b[0m \u001b[0mnifi_api\u001b[0m\u001b[0;34m.\u001b[0m\u001b[0mtools\u001b[0m \u001b[0;32mimport\u001b[0m \u001b[0mcustom_response\u001b[0m\u001b[0;34m\u001b[0m\u001b[0;34m\u001b[0m\u001b[0m\n\u001b[0m\u001b[1;32m      5\u001b[0m \u001b[0;32mimport\u001b[0m \u001b[0mjson\u001b[0m\u001b[0;34m\u001b[0m\u001b[0;34m\u001b[0m\u001b[0m\n",
      "\u001b[0;31mImportError\u001b[0m: cannot import name 'custom_response' from 'nifi_api.tools' (/wd/nbs/nifi_api/tools.py)"
     ]
    }
   ],
   "source": [
    "#export\n",
    "import requests\n",
    "from nifi_api.endpoints import *\n",
    "from nifi_api.tools import custom_response\n",
    "import json "
   ]
  },
  {
   "cell_type": "markdown",
   "id": "primary-patio",
   "metadata": {},
   "source": [
    "# REST\n",
    "> The NIFI REST API calls"
   ]
  },
  {
   "cell_type": "markdown",
   "id": "affiliated-aquatic",
   "metadata": {},
   "source": [
    "## Processors"
   ]
  },
  {
   "cell_type": "code",
   "execution_count": null,
   "id": "naughty-knowing",
   "metadata": {},
   "outputs": [],
   "source": [
    "#export \n",
    "class Processor:\n",
    "    \n",
    "    nifi_api = NIFI_API_PROCESSORS\n",
    "\n",
    "    @classmethod\n",
    "    def get(cls, processor_id):\n",
    "        url = nifi_api + processor_id\n",
    "        res = requests.get(url, auth=CLOUDERA_CREDENTIALS)\n",
    "        return custom_response(res)\n",
    "\n",
    "    @classmethod\n",
    "    def update_run_status(cls, processor_id, clientId, state=\"STOPPED\"):\n",
    "\n",
    "        data = {\n",
    "            \"revision\": {\n",
    "                'clientId': clientId,\n",
    "                'version': 1\n",
    "            },\n",
    "            \"state\": state,\n",
    "            \"disconnectedNodeAcknowledged\": True\n",
    "        }\n",
    "\n",
    "        url = nifi_api + f\"{processor_id}/run-status\"\n",
    "\n",
    "        res = requests.put(\n",
    "            url,\n",
    "            data=data,\n",
    "            auth=CLOUDERA_CREDENTIALS,\n",
    "            headers={'content-type': 'application/json'}\n",
    "        )\n",
    "        return custom_response(res)"
   ]
  },
  {
   "cell_type": "markdown",
   "id": "unnecessary-community",
   "metadata": {},
   "source": [
    "## Connections\n",
    "> NIFI REST API for Connections"
   ]
  },
  {
   "cell_type": "code",
   "execution_count": null,
   "id": "refined-weekly",
   "metadata": {},
   "outputs": [],
   "source": [
    "#export \n",
    "class Connection:\n",
    "    \n",
    "    nifi_api = NIFI_API_CONNECTIONS\n",
    "    \n",
    "\n",
    "\n",
    "    @classmethod\n",
    "    def list_queues(cls, processor_id):\n",
    "        url = cls.nifi_api + processor_id\n",
    "        res = requests.get(url, auth=CLOUDERA_CREDENTIALS)\n",
    "        return custom_response(res)\n",
    "    \n",
    "    \n",
    "\n",
    "    @classmethod\n",
    "    def update_run_status(cls, processor_id, clientId, state=\"STOPPED\"):\n",
    "\n",
    "        data = {\n",
    "            \"revision\": {\n",
    "                'clientId': clientId,\n",
    "                'version': 1\n",
    "            },\n",
    "            \"state\": state,\n",
    "            \"disconnectedNodeAcknowledged\": True\n",
    "        }\n",
    "\n",
    "        url = nifi_api + f\"{processor_id}/run-status\"\n",
    "\n",
    "        res = requests.put(\n",
    "            url,\n",
    "            data=data,\n",
    "            auth=CLOUDERA_CREDENTIALS,\n",
    "            headers={'content-type': 'application/json'}\n",
    "        )\n",
    "        return custom_response(res)"
   ]
  },
  {
   "cell_type": "markdown",
   "id": "talented-expression",
   "metadata": {},
   "source": [
    "# FlowFile Queues\n",
    "> NIFI REST API for Flowfile Queues"
   ]
  },
  {
   "cell_type": "code",
   "execution_count": null,
   "id": "premier-classification",
   "metadata": {},
   "outputs": [],
   "source": [
    "#export \n",
    "class Flowfile:\n",
    "    \n",
    "    nifi_api = NIFI_API_FLOWFILE_QUEUES\n",
    "    \n",
    "    @classmethod\n",
    "    def list_queues(cls,connection_id):\n",
    "        url = cls.nifi_api + f\"{connection_id}/listing-requests\"\n",
    "        res = requests.post(url, auth=CLOUDERA_CREDENTIALS)\n",
    "        return custom_response(res)\n"
   ]
  }
 ],
 "metadata": {
  "kernelspec": {
   "display_name": "Python 3",
   "language": "python",
   "name": "python3"
  }
 },
 "nbformat": 4,
 "nbformat_minor": 5
}
