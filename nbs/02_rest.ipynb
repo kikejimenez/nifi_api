{
 "cells": [
  {
   "cell_type": "code",
   "execution_count": 1,
   "id": "exclusive-cursor",
   "metadata": {},
   "outputs": [],
   "source": [
    "#default_exp rest"
   ]
  },
  {
   "cell_type": "code",
   "execution_count": 2,
   "id": "charged-combat",
   "metadata": {},
   "outputs": [],
   "source": [
    "#export\n",
    "\n",
    "import requests\n",
    "import json\n",
    "from nifi_api.environment import NifiEndpoint, Credentials\n",
    "from nifi_api.tools import custom_response, get_valid_names_in_connector"
   ]
  },
  {
   "cell_type": "code",
   "execution_count": 3,
   "id": "changing-wound",
   "metadata": {},
   "outputs": [],
   "source": [
    "#hide\n",
    "%load_ext autoreload\n",
    "%autoreload 2"
   ]
  },
  {
   "cell_type": "markdown",
   "id": "catholic-romania",
   "metadata": {},
   "source": [
    "# REST\n",
    "> Handles the states of the Nifi API "
   ]
  },
  {
   "cell_type": "markdown",
   "id": "consecutive-burlington",
   "metadata": {
    "tags": []
   },
   "source": [
    "## Processors\n",
    "> Handles the route **Processors** "
   ]
  },
  {
   "cell_type": "code",
   "execution_count": 69,
   "id": "israeli-initial",
   "metadata": {},
   "outputs": [],
   "source": [
    "#export\n",
    "\n",
    "\n",
    "class Processor:\n",
    "\n",
    "    nifi_api = NifiEndpoint.processors\n",
    "\n",
    "    def __init__(self, processor_id: str) -> None:\n",
    "        self.processor_id = processor_id\n",
    "\n",
    "    def get(self) -> tuple:\n",
    "        url = self.nifi_api + self.processor_id\n",
    "        res = requests.get(url, auth=Credentials.credentials)\n",
    "        return custom_response(res)\n",
    "\n",
    "    def get_state(self) -> None:\n",
    "        self.state, _ = self.get()\n",
    "        self.version = self.state['revision']['version']\n",
    "\n",
    "    def update_run_status(self, state) -> tuple:\n",
    "        \"\"\"\n",
    "Change the status of the processor.\n",
    "\n",
    " Attributes\n",
    "----------\n",
    "state : str\n",
    "     The possible values are: \"RUNNING\", \"STOPPED\", \"DISABLED\".\n",
    "\n",
    " Returns\n",
    "----------\n",
    " custom_response : tuple\n",
    "   The response as defined in tools module\n",
    "\"\"\"\n",
    "\n",
    "        self.get_state()\n",
    "\n",
    "        data = {\n",
    "            \"revision\": {\n",
    "                #   'clientId': self.client_id,\n",
    "                'version': self.version\n",
    "            },\n",
    "            \"state\": state,\n",
    "            \"disconnectedNodeAcknowledged\": True\n",
    "        }\n",
    "\n",
    "        url = self.nifi_api + f\"{self.processor_id}/run-status\"\n",
    "\n",
    "        res = requests.put(url,\n",
    "                           data=json.dumps(data),\n",
    "                           auth=Credentials.credentials,\n",
    "                           headers={'content-type': 'application/json'})\n",
    "        return custom_response(res)\n",
    "\n",
    "    def update_property(self, property_name, property_new_value):\n",
    "        \"\"\"\n",
    "        '{\"revision\":{\"clientId\":\"63911e66-0166-1000-3f04-f0e4a96a47da\",\n",
    "        \"version\":\"4\"},\"component\":{\"id\":\"6391462d-0166-1000-0000-000002b215e0\",\n",
    "        \"config\":{\"properties\":{\"Input Directory\":\"/some/new/dir\"}}}}'\n",
    "        \"\"\"\n",
    "\n",
    "        self.get_state()\n",
    "\n",
    "        data = {\n",
    "            \"revision\": {\n",
    "                'version': self.version\n",
    "            },\n",
    "            'uri': self.state['uri'],\n",
    "            'id': self.state['id'],\n",
    "            \"disconnectedNodeAcknowledged\": True,\n",
    "            'component': {\n",
    "                'id': self.state['component']['id'],\n",
    "                \"config\": {\n",
    "                    \"properties\": {\n",
    "                        property_name: property_new_value\n",
    "                    }\n",
    "                }\n",
    "            }\n",
    "        }\n",
    "\n",
    "        self.url = self.nifi_api + f\"{self.processor_id}\"\n",
    "\n",
    "        res = requests.put(\n",
    "            self.url,\n",
    "            data=json.dumps(data),\n",
    "            #data=self.state,\n",
    "            auth=Credentials.credentials,\n",
    "            headers={'content-type': 'application/json'})\n",
    "        return custom_response(res)"
   ]
  },
  {
   "cell_type": "code",
   "execution_count": 70,
   "id": "minor-reset",
   "metadata": {},
   "outputs": [],
   "source": [
    "#test\n",
    "# Uses the group processor \"Test API\"\n",
    "# in a Cloudera session\n",
    "\n",
    "p = Processor('36c62ad6-d606-3b04-9743-d77b6249608c')"
   ]
  },
  {
   "cell_type": "code",
   "execution_count": 61,
   "id": "subjective-harvard",
   "metadata": {},
   "outputs": [],
   "source": [
    "_, r = p.update_run_status(state=\"STOPPED\")"
   ]
  },
  {
   "cell_type": "code",
   "execution_count": 59,
   "id": "confused-memorabilia",
   "metadata": {},
   "outputs": [],
   "source": [
    "#p.state"
   ]
  },
  {
   "cell_type": "code",
   "execution_count": 62,
   "id": "variable-undergraduate",
   "metadata": {},
   "outputs": [],
   "source": [
    "assert  r.status_code == 200"
   ]
  },
  {
   "cell_type": "code",
   "execution_count": 71,
   "id": "flexible-dating",
   "metadata": {},
   "outputs": [],
   "source": [
    "_, r = p.update_property('fileName','newvalue.csv')"
   ]
  },
  {
   "cell_type": "code",
   "execution_count": 74,
   "id": "recreational-profession",
   "metadata": {},
   "outputs": [],
   "source": [
    "assert r.reason == 'OK'"
   ]
  },
  {
   "cell_type": "markdown",
   "id": "junior-maine",
   "metadata": {
    "tags": []
   },
   "source": [
    "## FlowFile Queues\n",
    "> Handles the route **Flowfiles**"
   ]
  },
  {
   "cell_type": "code",
   "execution_count": 82,
   "id": "noticed-rally",
   "metadata": {},
   "outputs": [],
   "source": [
    "#export\n",
    "\n",
    "\n",
    "class Flowfiles:\n",
    "\n",
    "    def __init__(self, connection_id: str) -> None:\n",
    "        self.connection_id = connection_id\n",
    "\n",
    "    def post_listing_request(self) -> None:\n",
    "        url = NifiEndpoint.flowfile_queues + f\"{self.connection_id}/listing-requests\"\n",
    "        res = requests.post(url, auth=Credentials.credentials)\n",
    "        self.listing_request = custom_response(res)[0]\n",
    "        self.listing_request_id = self.listing_request[\"listingRequest\"]['id']\n",
    "\n",
    "    def get_list_queue(self) -> None:\n",
    "        self.post_listing_request()\n",
    "        endpoint = f\"{self.connection_id}/listing-requests/{self.listing_request_id}\"\n",
    "        url = NifiEndpoint.flowfile_queues + endpoint\n",
    "        res = requests.get(url, auth=Credentials.credentials)\n",
    "        self.list_queue, _ = custom_response(res)\n",
    "\n",
    "    def get_ids(self) -> None:\n",
    "        self.get_list_queue()\n",
    "        self.ids = get_valid_names_in_connector(self.list_queue)\n",
    "\n",
    "    def equals(self, flowfile) -> bool:\n",
    "        return set(self.ids) == set(flowfile.ids)"
   ]
  },
  {
   "cell_type": "code",
   "execution_count": 93,
   "id": "primary-internet",
   "metadata": {},
   "outputs": [],
   "source": [
    "#test\n",
    "\n",
    "# This test is using the Test API processor in the Cloudera session  Steps:\n",
    "\n",
    "# 1. Turn all the processors Off. Generate a flowfile by turning on\n",
    "# processor \"One\". Read it as follows:\n",
    "test_flowfiles1 = Flowfiles(\"cc549c6e-0177-1000-ffff-ffffb5d2aba2\")\n",
    "test_flowfiles1.get_ids()"
   ]
  },
  {
   "cell_type": "code",
   "execution_count": 85,
   "id": "endangered-envelope",
   "metadata": {},
   "outputs": [],
   "source": [
    "#test\n",
    "\n",
    "\n",
    "# 3. Turn ON processor \"two\". Read the corresponding flowfile \n",
    "#  in the success relationship\n",
    "\n",
    "test_flowfiles2 = Flowfiles(\"cc557339-0177-1000-0000-000001afcc7b\")\n",
    "test_flowfiles2.get_ids()"
   ]
  },
  {
   "cell_type": "code",
   "execution_count": 86,
   "id": "fancy-platinum",
   "metadata": {},
   "outputs": [],
   "source": [
    "# 4. Compare the two ids. They must coincide\n",
    "\n",
    "assert test_flowfiles2.equals(test_flowfiles1)"
   ]
  },
  {
   "cell_type": "code",
   "execution_count": 87,
   "id": "featured-dance",
   "metadata": {},
   "outputs": [],
   "source": [
    "# 4. Turn ON processor \"three\". Read the corresponding flowfile\n",
    "#    in the success relationship\n",
    "\n",
    "test_flowfiles3 = Flowfiles(\"51ab3b24-084f-1309-0000-00001946f2c7\")\n",
    "test_flowfiles3.get_ids()"
   ]
  },
  {
   "cell_type": "code",
   "execution_count": 88,
   "id": "meaningful-edition",
   "metadata": {},
   "outputs": [],
   "source": [
    "assert test_flowfiles3.equals(test_flowfiles1)\n",
    "assert test_flowfiles2.equals(test_flowfiles3)"
   ]
  },
  {
   "cell_type": "code",
   "execution_count": 89,
   "id": "judicial-blanket",
   "metadata": {},
   "outputs": [
    {
     "data": {
      "text/plain": [
       "[]"
      ]
     },
     "execution_count": 89,
     "metadata": {},
     "output_type": "execute_result"
    }
   ],
   "source": [
    "get_valid_names_in_connector(test_flowfiles2.list_queue)"
   ]
  },
  {
   "cell_type": "code",
   "execution_count": null,
   "id": "material-internship",
   "metadata": {},
   "outputs": [],
   "source": [
    "from nbdev.export import notebook2script\n",
    "notebook2script()"
   ]
  },
  {
   "cell_type": "code",
   "execution_count": null,
   "id": "blank-making",
   "metadata": {},
   "outputs": [],
   "source": []
  }
 ],
 "metadata": {
  "kernelspec": {
   "display_name": "Python 3.8 (XPython)",
   "language": "python",
   "name": "xpython"
  },
  "language_info": {
   "file_extension": ".py",
   "mimetype": "text/x-python",
   "name": "python",
   "version": "3.8.7"
  }
 },
 "nbformat": 4,
 "nbformat_minor": 5
}
