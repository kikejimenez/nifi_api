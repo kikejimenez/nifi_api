{
 "cells": [
  {
   "cell_type": "code",
   "execution_count": null,
   "id": "induced-organic",
   "metadata": {},
   "outputs": [],
   "source": [
    "#default_exp rest"
   ]
  },
  {
   "cell_type": "code",
   "execution_count": null,
   "id": "ethical-seller",
   "metadata": {},
   "outputs": [],
   "source": [
    "#export\n",
    "\n",
    "import requests\n",
    "import json\n",
    "from nifi_api.environment import NifiEndpoint, Credentials\n",
    "from nifi_api.tools import custom_response, get_valid_names_in_connector"
   ]
  },
  {
   "cell_type": "markdown",
   "id": "associate-wings",
   "metadata": {},
   "source": [
    "# REST\n",
    "> The NIFI REST API calls"
   ]
  },
  {
   "cell_type": "markdown",
   "id": "massive-organ",
   "metadata": {},
   "source": [
    "## Processors\n",
    "> NIFI REST API for Connections"
   ]
  },
  {
   "cell_type": "code",
   "execution_count": null,
   "id": "published-ivory",
   "metadata": {},
   "outputs": [],
   "source": [
    "#export\n",
    "\n",
    "\n",
    "class Processor:\n",
    "\n",
    "    nifi_api = NifiEndpoint.processors\n",
    "\n",
    "    def __init__(self, processor_id: str) -> None:\n",
    "        self.processor_id = processor_id\n",
    "\n",
    "    def get(self) -> tuple:\n",
    "        url = self.nifi_api + self.processor_id\n",
    "        res = requests.get(url, auth=Credentials.credentials)\n",
    "        return custom_response(res)\n",
    "\n",
    "    def get_state(self) -> None:\n",
    "        self.state, _ = self.get()\n",
    "        self.version = self.state['revision']['version']\n",
    "\n",
    "    def update_run_status(self, state) -> tuple:\n",
    "        \"\"\"\n",
    "Change the status of the processor.\n",
    "\n",
    " Attributes\n",
    "----------\n",
    "state : str\n",
    "     The possible values are: \"RUNNING\", \"STOPPED\", \"DISABLED\".\n",
    "\n",
    " Returns\n",
    "----------\n",
    " custom_response : tuple\n",
    "   The response as defined in tools module\n",
    "\"\"\"\n",
    "\n",
    "        self.get_state()\n",
    "\n",
    "        data = {\n",
    "            \"revision\": {\n",
    "                #   'clientId': self.client_id,\n",
    "                'version': self.version\n",
    "            },\n",
    "            \"state\": state,\n",
    "            \"disconnectedNodeAcknowledged\": True\n",
    "        }\n",
    "\n",
    "        url = self.nifi_api + f\"{self.processor_id}/run-status\"\n",
    "\n",
    "        res = requests.put(url,\n",
    "                           data=json.dumps(data),\n",
    "                           auth=Credentials.credentials,\n",
    "                           headers={'content-type': 'application/json'})\n",
    "        return custom_response(res)"
   ]
  },
  {
   "cell_type": "code",
   "execution_count": null,
   "id": "broken-found",
   "metadata": {},
   "outputs": [],
   "source": [
    "#test\n",
    "# Use the group processor \"Test API\"\n",
    "# of the Cloudera session\n",
    "\n",
    "from nifi_api.environment import NifiIds\n",
    "#p = Processor(NifiIds.sourceToRaw.in_processor)\n",
    "p = Processor('cc555e79-0177-1000-ffff-ffffac3be751')"
   ]
  },
  {
   "cell_type": "code",
   "execution_count": null,
   "id": "august-popularity",
   "metadata": {},
   "outputs": [],
   "source": [
    "_,r= p.update_run_status(state=\"STOPPED\")"
   ]
  },
  {
   "cell_type": "code",
   "execution_count": null,
   "id": "minus-prague",
   "metadata": {},
   "outputs": [
    {
     "data": {
      "text/plain": [
       "<Response [200]>"
      ]
     },
     "execution_count": null,
     "metadata": {},
     "output_type": "execute_result"
    }
   ],
   "source": [
    "r"
   ]
  },
  {
   "cell_type": "markdown",
   "id": "binary-selection",
   "metadata": {},
   "source": [
    "## FlowFile Queues\n",
    "> NIFI REST API for Flowfile Queues"
   ]
  },
  {
   "cell_type": "code",
   "execution_count": null,
   "id": "collected-kennedy",
   "metadata": {},
   "outputs": [],
   "source": [
    "#export\n",
    "\n",
    "\n",
    "class Flowfiles:\n",
    "\n",
    "    def __init__(self, connection_id: str) -> None:\n",
    "        self.connection_id = connection_id\n",
    "\n",
    "    def post_listing_request(self) -> None:\n",
    "        url = NifiEndpoint.flowfile_queues + f\"{self.connection_id}/listing-requests\"\n",
    "        res = requests.post(url, auth=Credentials.credentials)\n",
    "        self.listing_request = custom_response(res)[0]\n",
    "        self.listing_request_id = self.listing_request[\"listingRequest\"]['id']\n",
    "\n",
    "    def get_list_queue(self) -> None:\n",
    "        self.post_listing_request()\n",
    "        endpoint = f\"{self.connection_id}/listing-requests/{self.listing_request_id}\"\n",
    "        url = NifiEndpoint.flowfile_queues + endpoint\n",
    "        res = requests.get(url, auth=Credentials.credentials)\n",
    "        self.list_queue, _ = custom_response(res)\n",
    "\n",
    "    def get_ids(self) -> None:\n",
    "        self.get_list_queue()\n",
    "        self.ids = get_valid_names_in_connector(self.list_queue)\n",
    "\n",
    "    def equals(self, flowfile) -> bool:\n",
    "        return set(self.ids) == set(flowfile.ids)"
   ]
  },
  {
   "cell_type": "code",
   "execution_count": null,
   "id": "scheduled-victoria",
   "metadata": {},
   "outputs": [],
   "source": [
    "#test\n",
    "\n",
    "# This test is using the Test API processor in the Cloudera session  Steps:\n",
    "\n",
    "# 1. Turn all the processors Off. Generate a flowfile by turning on\n",
    "# processor \"One\". Read it as follows:\n",
    "test_flowfiles1 = Flowfiles(\"cc549c6e-0177-1000-ffff-ffffb5d2aba2\")\n",
    "test_flowfiles1.get_ids()"
   ]
  },
  {
   "cell_type": "code",
   "execution_count": null,
   "id": "expected-fitting",
   "metadata": {},
   "outputs": [],
   "source": [
    "#test\n",
    "\n",
    "\n",
    "# 3. Turn ON processor \"two\". Read the corresponding flowfile \n",
    "#  in the success relationship\n",
    "\n",
    "test_flowfiles2 = Flowfiles(\"cc557339-0177-1000-0000-000001afcc7b\")\n",
    "test_flowfiles2.get_ids()"
   ]
  },
  {
   "cell_type": "code",
   "execution_count": null,
   "id": "divine-bloom",
   "metadata": {},
   "outputs": [],
   "source": [
    "# 4. Compare the two ids. They must coincide\n",
    "\n",
    "assert test_flowfiles2.equals(test_flowfiles1)"
   ]
  },
  {
   "cell_type": "code",
   "execution_count": null,
   "id": "devoted-preparation",
   "metadata": {},
   "outputs": [],
   "source": [
    "# 4. Turn ON processor \"three\". Read the corresponding flowfile\n",
    "#    in the success relationship\n",
    "\n",
    "test_flowfiles3 = Flowfiles(\"51ab3b24-084f-1309-0000-00001946f2c7\")\n",
    "test_flowfiles3.get_ids()"
   ]
  },
  {
   "cell_type": "code",
   "execution_count": null,
   "id": "adjusted-wireless",
   "metadata": {},
   "outputs": [],
   "source": [
    "assert test_flowfiles3.equals(test_flowfiles1)\n",
    "assert test_flowfiles2.equals(test_flowfiles3)"
   ]
  },
  {
   "cell_type": "code",
   "execution_count": null,
   "id": "cellular-sword",
   "metadata": {},
   "outputs": [
    {
     "data": {
      "text/plain": [
       "['path/tofile/campaings.csv']"
      ]
     },
     "execution_count": null,
     "metadata": {},
     "output_type": "execute_result"
    }
   ],
   "source": [
    "get_valid_names_in_connector(test_flowfiles2.list_queue)"
   ]
  },
  {
   "cell_type": "code",
   "execution_count": null,
   "id": "general-twins",
   "metadata": {},
   "outputs": [],
   "source": []
  }
 ],
 "metadata": {
  "kernelspec": {
   "display_name": "Python 3.8 (XPython)",
   "language": "python",
   "name": "xpython"
  }
 },
 "nbformat": 4,
 "nbformat_minor": 5
}
