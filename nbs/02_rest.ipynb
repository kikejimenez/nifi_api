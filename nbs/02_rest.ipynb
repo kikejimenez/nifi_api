{
 "cells": [
  {
   "cell_type": "code",
   "execution_count": null,
   "id": "unknown-container",
   "metadata": {},
   "outputs": [],
   "source": [
    "#default_exp rest"
   ]
  },
  {
   "cell_type": "code",
   "execution_count": null,
   "id": "italian-throat",
   "metadata": {},
   "outputs": [],
   "source": [
    "#export\n",
    "import requests\n",
    "import nifi_api as na\n",
    "from nifi_api.endpoints import *\n",
    "from nifi_api.tools import custom_response\n",
    "import json "
   ]
  },
  {
   "cell_type": "markdown",
   "id": "abandoned-technology",
   "metadata": {},
   "source": [
    "# REST\n",
    "> The NIFI REST API calls"
   ]
  },
  {
   "cell_type": "markdown",
   "id": "capable-wisconsin",
   "metadata": {},
   "source": [
    "## Processors"
   ]
  },
  {
   "cell_type": "code",
   "execution_count": null,
   "id": "suburban-clothing",
   "metadata": {},
   "outputs": [],
   "source": [
    "#export \n",
    "class Processor:\n",
    "    \n",
    "    nifi_api = NIFI_API_PROCESSORS\n",
    "\n",
    "    @classmethod\n",
    "    def get(cls, processor_id):\n",
    "        url = nifi_api + processor_id\n",
    "        res = requests.get(url, auth=CLOUDERA_CREDENTIALS)\n",
    "        return custom_response(res)\n",
    "\n",
    "    @classmethod\n",
    "    def update_run_status(cls, processor_id, clientId, state=\"STOPPED\"):\n",
    "\n",
    "        data = {\n",
    "            \"revision\": {\n",
    "                'clientId': clientId,\n",
    "                'version': 1\n",
    "            },\n",
    "            \"state\": state,\n",
    "            \"disconnectedNodeAcknowledged\": True\n",
    "        }\n",
    "\n",
    "        url = nifi_api + f\"{processor_id}/run-status\"\n",
    "\n",
    "        res = requests.put(\n",
    "            url,\n",
    "            data=data,\n",
    "            auth=CLOUDERA_CREDENTIALS,\n",
    "            headers={'content-type': 'application/json'}\n",
    "        )\n",
    "        return custom_response(res)"
   ]
  },
  {
   "cell_type": "markdown",
   "id": "plastic-library",
   "metadata": {},
   "source": [
    "## Connections\n",
    "> NIFI REST API for Connections"
   ]
  },
  {
   "cell_type": "code",
   "execution_count": null,
   "id": "analyzed-blood",
   "metadata": {},
   "outputs": [],
   "source": [
    "#export \n",
    "class Connection:\n",
    "    \n",
    "    nifi_api = NIFI_API_CONNECTIONS\n",
    "    \n",
    "\n",
    "\n",
    "    @classmethod\n",
    "    def list_queues(cls, processor_id):\n",
    "        url = cls.nifi_api + processor_id\n",
    "        res = requests.get(url, auth=CLOUDERA_CREDENTIALS)\n",
    "        return custom_response(res)\n",
    "    \n",
    "    \n",
    "\n",
    "    @classmethod\n",
    "    def update_run_status(cls, processor_id, clientId, state=\"STOPPED\"):\n",
    "\n",
    "        data = {\n",
    "            \"revision\": {\n",
    "                'clientId': clientId,\n",
    "                'version': 1\n",
    "            },\n",
    "            \"state\": state,\n",
    "            \"disconnectedNodeAcknowledged\": True\n",
    "        }\n",
    "\n",
    "        url = nifi_api + f\"{processor_id}/run-status\"\n",
    "\n",
    "        res = requests.put(\n",
    "            url,\n",
    "            data=data,\n",
    "            auth=CLOUDERA_CREDENTIALS,\n",
    "            headers={'content-type': 'application/json'}\n",
    "        )\n",
    "        return custom_response(res)"
   ]
  },
  {
   "cell_type": "markdown",
   "id": "atmospheric-florence",
   "metadata": {},
   "source": [
    "# FlowFile Queues\n",
    "> NIFI REST API for Flowfile Queues"
   ]
  },
  {
   "cell_type": "code",
   "execution_count": null,
   "id": "authorized-junction",
   "metadata": {},
   "outputs": [],
   "source": [
    "#export \n",
    "class Flowfile:\n",
    "    \n",
    "    nifi_api = NIFI_API_FLOWFILE_QUEUES\n",
    "    \n",
    "    @classmethod\n",
    "    def listing_request(cls,connection_id):\n",
    "        url = cls.nifi_api + f\"{connection_id}/listing-requests\"\n",
    "        res = requests.post(url, auth=CLOUDERA_CREDENTIALS)\n",
    "        return custom_response(res)\n",
    "\n",
    "    @classmethod\n",
    "    def list_queues(cls,connection_id):\n",
    "        listing_request,_ = cls.listing_request(connection_id)\n",
    "        listing_request_id  = listing_request[\"listingRequest\"]['id']\n",
    "        url = cls.nifi_api + f\"{connection_id}/listing-requests/{listing_request_id}\"\n",
    "        res = requests.get(url, auth=CLOUDERA_CREDENTIALS)\n",
    "        return custom_response(res)\n",
    "        "
   ]
  },
  {
   "cell_type": "code",
   "execution_count": null,
   "id": "atomic-verification",
   "metadata": {},
   "outputs": [
    {
     "data": {
      "text/plain": [
       "\u001b[0;31mSignature:\u001b[0m \u001b[0mcustom_response\u001b[0m\u001b[0;34m(\u001b[0m\u001b[0mres\u001b[0m\u001b[0;34m)\u001b[0m\u001b[0;34m\u001b[0m\u001b[0;34m\u001b[0m\u001b[0m\n",
       "\u001b[0;31mDocstring:\u001b[0m <no docstring>\n",
       "\u001b[0;31mFile:\u001b[0m      /wd/nbs/nifi_api/tools.py\n",
       "\u001b[0;31mType:\u001b[0m      function\n"
      ]
     },
     "metadata": {},
     "output_type": "display_data"
    }
   ],
   "source": [
    "custom_response?"
   ]
  },
  {
   "cell_type": "code",
   "execution_count": null,
   "id": "extra-london",
   "metadata": {},
   "outputs": [
    {
     "data": {
      "text/plain": [
       "('No JSON available', <Response [409]>)"
      ]
     },
     "execution_count": null,
     "metadata": {},
     "output_type": "execute_result"
    }
   ],
   "source": [
    "Flowfile.listing_request(\"gonna fail\")"
   ]
  },
  {
   "cell_type": "code",
   "execution_count": null,
   "id": "destroyed-quality",
   "metadata": {},
   "outputs": [],
   "source": []
  }
 ],
 "metadata": {
  "kernelspec": {
   "display_name": "Python 3",
   "language": "python",
   "name": "python3"
  }
 },
 "nbformat": 4,
 "nbformat_minor": 5
}
