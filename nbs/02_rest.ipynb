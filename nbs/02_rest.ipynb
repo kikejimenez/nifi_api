{
 "cells": [
  {
   "cell_type": "code",
   "execution_count": null,
   "id": "opponent-display",
   "metadata": {},
   "outputs": [],
   "source": [
    "#default_exp rest"
   ]
  },
  {
   "cell_type": "code",
   "execution_count": null,
   "id": "anticipated-ensemble",
   "metadata": {},
   "outputs": [],
   "source": [
    "#export\n",
    "import requests\n",
    "import json\n",
    "from nifi_api.environment import NifiEndpoint, Credentials\n",
    "from nifi_api.tools import custom_response"
   ]
  },
  {
   "cell_type": "markdown",
   "id": "royal-modification",
   "metadata": {},
   "source": [
    "# REST\n",
    "> The NIFI REST API calls"
   ]
  },
  {
   "cell_type": "markdown",
   "id": "revised-single",
   "metadata": {},
   "source": [
    "## Processors\n",
    "> NIFI REST API for Connections"
   ]
  },
  {
   "cell_type": "code",
   "execution_count": null,
   "id": "adapted-gardening",
   "metadata": {},
   "outputs": [],
   "source": [
    "#export\n",
    "\n",
    "\n",
    "class Processor:\n",
    "\n",
    "    nifi_api = NifiEndpoint.processors\n",
    "\n",
    "    def __init__(self, processor_id: str) -> None:\n",
    "        self.processor_id = processor_id\n",
    "\n",
    "    def get_state(self) -> None:\n",
    "        self.state, _ = self.get(self.processor_id)\n",
    "        self.client_id = self.state['revision']['clientId']\n",
    "\n",
    "    def get(self, processor_id) -> tuple:\n",
    "        url = self.nifi_api + processor_id\n",
    "        res = requests.get(url, auth=Credentials.credentials)\n",
    "        return custom_response(res)\n",
    "\n",
    "    def update_run_status(self, state) -> tuple:\n",
    "        \"\"\"\n",
    "Change the status of the processor.\n",
    "\n",
    " Attributes\n",
    "----------\n",
    "state : str\n",
    "     The possible values are: \"RUNNING\", \"STOPPED\", \"DISABLED\".\n",
    "\n",
    " Returns\n",
    "----------\n",
    " custom_response : tuple\n",
    "   The response as defined in tools module\n",
    "\"\"\"\n",
    "\n",
    "        self.get_state()\n",
    "\n",
    "        data = {\n",
    "            \"revision\": {\n",
    "                'clientId': self.client_id,\n",
    "                'version': 1\n",
    "            },\n",
    "            \"state\": state,\n",
    "            \"disconnectedNodeAcknowledged\": True\n",
    "        }\n",
    "\n",
    "        url = self.nifi_api + f\"{self.processor_id}/run-status\"\n",
    "\n",
    "        res = requests.put(url,\n",
    "                           data=json.dumps(data),\n",
    "                           auth=Credentials.credentials,\n",
    "                           headers={'content-type': 'application/json'})\n",
    "        return custom_response(res)"
   ]
  },
  {
   "cell_type": "code",
   "execution_count": null,
   "id": "local-workstation",
   "metadata": {},
   "outputs": [],
   "source": [
    "#test\n",
    "\n",
    "from nifi_api.environment import NifiIds\n",
    "p = Processor(NifiIds.sourceToRaw.in_processor)"
   ]
  },
  {
   "cell_type": "code",
   "execution_count": null,
   "id": "hollywood-classics",
   "metadata": {},
   "outputs": [
    {
     "data": {
      "text/plain": [
       "'1ac4364b-5f00-16b3-aee1-e15d8ad527ff'"
      ]
     },
     "execution_count": null,
     "metadata": {},
     "output_type": "execute_result"
    }
   ],
   "source": [
    "p.processor_id"
   ]
  },
  {
   "cell_type": "code",
   "execution_count": null,
   "id": "theoretical-slide",
   "metadata": {},
   "outputs": [],
   "source": [
    "p.get_state()"
   ]
  },
  {
   "cell_type": "code",
   "execution_count": null,
   "id": "creative-columbia",
   "metadata": {},
   "outputs": [
    {
     "data": {
      "text/plain": [
       "'cac6ae96-0177-1000-4de6-1ff55bf468ae'"
      ]
     },
     "execution_count": null,
     "metadata": {},
     "output_type": "execute_result"
    }
   ],
   "source": [
    "p.client_id"
   ]
  },
  {
   "cell_type": "code",
   "execution_count": null,
   "id": "contemporary-pipeline",
   "metadata": {},
   "outputs": [],
   "source": [
    "_,r= p.update_run_status(state=\"STOPPED\")"
   ]
  },
  {
   "cell_type": "code",
   "execution_count": null,
   "id": "swiss-immune",
   "metadata": {},
   "outputs": [
    {
     "data": {
      "text/plain": [
       "<Response [200]>"
      ]
     },
     "execution_count": null,
     "metadata": {},
     "output_type": "execute_result"
    }
   ],
   "source": [
    "r"
   ]
  },
  {
   "cell_type": "markdown",
   "id": "emerging-russian",
   "metadata": {},
   "source": [
    "## Connections\n",
    "> NIFI REST API for Connections"
   ]
  },
  {
   "cell_type": "code",
   "execution_count": null,
   "id": "junior-settlement",
   "metadata": {},
   "outputs": [],
   "source": [
    "#export\n",
    "class Connection:\n",
    "\n",
    "    nifi_api = NifiEndpoint.connections\n",
    "\n",
    "    @classmethod\n",
    "    def list_queues(cls, processor_id):\n",
    "        url = cls.nifi_api + processor_id\n",
    "        res = requests.get(url, auth=Credentials.credentials)\n",
    "        return custom_response(res)"
   ]
  },
  {
   "cell_type": "markdown",
   "id": "strange-funds",
   "metadata": {},
   "source": [
    "## FlowFile Queues\n",
    "> NIFI REST API for Flowfile Queues"
   ]
  },
  {
   "cell_type": "code",
   "execution_count": null,
   "id": "parallel-killing",
   "metadata": {},
   "outputs": [],
   "source": [
    "#export\n",
    "class Flowfile:\n",
    "\n",
    "    @classmethod\n",
    "    def listing_request(cls, connection_id):\n",
    "        url = NifiEndpoint.flowfile_queues + f\"{connection_id}/listing-requests\"\n",
    "        res = requests.post(url, auth=Credentials.credentials)\n",
    "        return custom_response(res)\n",
    "\n",
    "    @classmethod\n",
    "    def list_queues(cls, connection_id):\n",
    "        listing_request, _ = cls.listing_request(connection_id)\n",
    "        listing_request_id = listing_request[\"listingRequest\"]['id']\n",
    "        endpoint = f\"{connection_id}/listing-requests/{listing_request_id}\"\n",
    "        url = NifiEndpoint.flowfile_queues + endpoint\n",
    "        res = requests.get(url, auth=Credentials.credentials)\n",
    "        return custom_response(res)"
   ]
  },
  {
   "cell_type": "code",
   "execution_count": null,
   "id": "union-raise",
   "metadata": {},
   "outputs": [],
   "source": [
    "class Vars:\n",
    "    time_between_checks = environ['']"
   ]
  }
 ],
 "metadata": {
  "kernelspec": {
   "display_name": "Python 3",
   "language": "python",
   "name": "python3"
  }
 },
 "nbformat": 4,
 "nbformat_minor": 5
}
