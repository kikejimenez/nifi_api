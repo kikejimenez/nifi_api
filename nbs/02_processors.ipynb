{
 "cells": [
  {
   "cell_type": "code",
   "execution_count": null,
   "metadata": {},
   "outputs": [],
   "source": [
    "#default_exp processors"
   ]
  },
  {
   "cell_type": "code",
   "execution_count": null,
   "metadata": {},
   "outputs": [],
   "source": [
    "#export\n",
    "import requests\n",
    "from nifi_api.endpoints import *\n",
    "import json "
   ]
  },
  {
   "cell_type": "markdown",
   "metadata": {},
   "source": [
    "# Processors\n",
    "> NIFI REST API for Processors"
   ]
  },
  {
   "cell_type": "code",
   "execution_count": null,
   "metadata": {},
   "outputs": [],
   "source": [
    "#export \n",
    "class Processor:\n",
    "    \n",
    "    nifi_api = NIFI_API_PROCESSORS\n",
    "\n",
    "    @staticmethod\n",
    "    def custom_response(res):\n",
    "        try:\n",
    "            return json.loads(res.text), res\n",
    "        except:\n",
    "            return \"No JSON available\", res\n",
    "\n",
    "    @classmethod\n",
    "    def get(cls, processor_id):\n",
    "        url = nifi_api + processor_id\n",
    "        res = requests.get(url, auth=CLOUDERA_CREDENTIALS)\n",
    "        return cls.custom_response(res)\n",
    "\n",
    "    @classmethod\n",
    "    def update_run_status(cls, processor_id, clientId, state=\"STOPPED\"):\n",
    "\n",
    "        data = {\n",
    "            \"revision\": {\n",
    "                'clientId': clientId,\n",
    "                'version': 1\n",
    "            },\n",
    "            \"state\": state,\n",
    "            \"disconnectedNodeAcknowledged\": True\n",
    "        }\n",
    "\n",
    "        url = nifi_api + f\"{processor_id}/run-status\"\n",
    "\n",
    "        res = requests.put(\n",
    "            url,\n",
    "            data=data,\n",
    "            auth=CLOUDERA_CREDENTIALS,\n",
    "            headers={'content-type': 'application/json'}\n",
    "        )\n",
    "        return cls.custom_response(res)"
   ]
  },
  {
   "cell_type": "code",
   "execution_count": null,
   "metadata": {},
   "outputs": [],
   "source": [
    "a = Processor.get(\"36c62ad6-d606-3b04-9743-d77b6249608c\")"
   ]
  }
 ],
 "metadata": {
  "kernelspec": {
   "display_name": "Python 3",
   "language": "python",
   "name": "python3"
  }
 },
 "nbformat": 4,
 "nbformat_minor": 4
}
