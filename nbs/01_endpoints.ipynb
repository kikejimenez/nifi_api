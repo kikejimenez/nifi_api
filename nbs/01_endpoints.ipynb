{
 "cells": [
  {
   "cell_type": "code",
   "execution_count": null,
   "metadata": {},
   "outputs": [],
   "source": [
    "#default_exp endpoints"
   ]
  },
  {
   "cell_type": "code",
   "execution_count": null,
   "metadata": {},
   "outputs": [],
   "source": [
    "#export\n",
    "import requests\n",
    "from os import environ\n",
    "import json "
   ]
  },
  {
   "cell_type": "markdown",
   "metadata": {},
   "source": [
    "# Endpoints\n",
    "> Set global variables\n",
    "\n",
    "Set the following environmental variables:\n",
    "  - Cloudera user and password\n",
    "  - Nifi API endpoints\n",
    "  - Nifi processors and connections Ids"
   ]
  },
  {
   "cell_type": "code",
   "execution_count": null,
   "metadata": {},
   "outputs": [],
   "source": [
    "#export \n",
    "CLOUDERA_USER = environ['CLOUDERA_USER']\n",
    "CLOUDERA_PASS = environ['CLOUDERA_PASS']\n",
    "CLOUDERA_CLUSTER = environ['CLOUDERA_CLUSTER']\n",
    "CLOUDERA_NIFI_REST = environ['CLOUDERA_NIFI_REST']"
   ]
  },
  {
   "cell_type": "code",
   "execution_count": null,
   "metadata": {},
   "outputs": [],
   "source": [
    "#export\n",
    "NIFI_API_URL = CLOUDERA_CLUSTER + CLOUDERA_NIFI_REST "
   ]
  },
  {
   "cell_type": "code",
   "execution_count": null,
   "metadata": {},
   "outputs": [],
   "source": [
    "#export\n",
    "NIFI_API_PROCESSORS = NIFI_API_URL + \"processors/\"\n",
    "NIFI_API_CONNECTIONS = NIFI_API_URL + \"connections/\"\n",
    "NIFI_API_FLOWFILE_QUEUES = NIFI_API_URL + \"flowfile-queues/\""
   ]
  },
  {
   "cell_type": "code",
   "execution_count": null,
   "metadata": {},
   "outputs": [],
   "source": [
    "#export\n",
    "CLOUDERA_CREDENTIALS = (CLOUDERA_USER, CLOUDERA_PASS)"
   ]
  },
  {
   "cell_type": "code",
   "execution_count": null,
   "metadata": {},
   "outputs": [],
   "source": [
    "#export\n",
    "NIFI_OBJECT_IDS = json.load(open(environ['IDS_FILE']))\n",
    "SOURCE_TO_RAW_IDS = NIFI_OBJECT_IDS['SourceToRaw']\n"
   ]
  }
 ],
 "metadata": {
  "kernelspec": {
   "display_name": "Python 3",
   "language": "python",
   "name": "python3"
  }
 },
 "nbformat": 4,
 "nbformat_minor": 4
}
