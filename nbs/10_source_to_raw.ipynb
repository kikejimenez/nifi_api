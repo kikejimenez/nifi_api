{
 "cells": [
  {
   "cell_type": "code",
   "execution_count": null,
   "id": "studied-november",
   "metadata": {},
   "outputs": [],
   "source": [
    "#default_exp source_to_raw"
   ]
  },
  {
   "cell_type": "code",
   "execution_count": null,
   "id": "crude-threat",
   "metadata": {},
   "outputs": [],
   "source": [
    "#export\n",
    "from nifi_api import processors, connections"
   ]
  },
  {
   "cell_type": "markdown",
   "id": "fresh-barbados",
   "metadata": {},
   "source": [
    "# Source to Raw\n",
    "\n",
    "> Monitors Source To Raw Processor"
   ]
  },
  {
   "cell_type": "code",
   "execution_count": null,
   "id": "backed-execution",
   "metadata": {},
   "outputs": [],
   "source": []
  }
 ],
 "metadata": {
  "kernelspec": {
   "display_name": "Python 3",
   "language": "python",
   "name": "python3"
  }
 },
 "nbformat": 4,
 "nbformat_minor": 5
}
