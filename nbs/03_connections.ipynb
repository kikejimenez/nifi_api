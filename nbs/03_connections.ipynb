{
 "cells": [
  {
   "cell_type": "code",
   "execution_count": null,
   "metadata": {},
   "outputs": [],
   "source": [
    "#default_exp connections"
   ]
  },
  {
   "cell_type": "code",
   "execution_count": null,
   "metadata": {},
   "outputs": [],
   "source": [
    "#export\n",
    "import requests\n",
    "from nifi_api.endpoints import *\n",
    "import json "
   ]
  },
  {
   "cell_type": "markdown",
   "metadata": {},
   "source": [
    "# Connections\n",
    "> NIFI REST API for Connections"
   ]
  },
  {
   "cell_type": "code",
   "execution_count": null,
   "metadata": {},
   "outputs": [],
   "source": [
    "#export \n",
    "class Connection:\n",
    "    \n",
    "    nifi_api = NIFI_API_CONNECTIONS\n",
    "    \n",
    "    @staticmethod\n",
    "    def custom_response(res):\n",
    "        try:\n",
    "            return json.loads(res.text), res\n",
    "        except:\n",
    "            return \"No JSON available\", res\n",
    "\n",
    "    @classmethod\n",
    "    def list_queues(cls, processor_id):\n",
    "        url = nifi_api + processor_id\n",
    "        res = requests.get(url, auth=CLOUDERA_CREDENTIALS)\n",
    "        return cls.custom_response(res)\n",
    "    \n",
    "    \n",
    "\n",
    "    @classmethod\n",
    "    def update_run_status(cls, processor_id, clientId, state=\"STOPPED\"):\n",
    "\n",
    "        data = {\n",
    "            \"revision\": {\n",
    "                'clientId': clientId,\n",
    "                'version': 1\n",
    "            },\n",
    "            \"state\": state,\n",
    "            \"disconnectedNodeAcknowledged\": True\n",
    "        }\n",
    "\n",
    "        url = nifi_api + f\"{processor_id}/run-status\"\n",
    "\n",
    "        res = requests.put(\n",
    "            url,\n",
    "            data=data,\n",
    "            auth=CLOUDERA_CREDENTIALS,\n",
    "            headers={'content-type': 'application/json'}\n",
    "        )\n",
    "        return cls.custom_response(res)"
   ]
  },
  {
   "cell_type": "code",
   "execution_count": null,
   "metadata": {},
   "outputs": [],
   "source": [
    "a =Processor.get(\"36c62ad6-d606-3b04-9743-d77b6249608c\")"
   ]
  },
  {
   "cell_type": "code",
   "execution_count": null,
   "metadata": {},
   "outputs": [],
   "source": []
  },
  {
   "cell_type": "code",
   "execution_count": null,
   "metadata": {},
   "outputs": [
    {
     "name": "stdout",
     "output_type": "stream",
     "text": [
      "https://learn-cluster-master0.sibatel.xo7z-6zib.cloudera.site/learn-cluster/cdp-proxy-api/nifi-app/nifi-api/flowfile-queues/a9bc3f88-5f2d-1559-9c2d-625d8a66e5c8/listing-requests\n"
     ]
    }
   ],
   "source": [
    "check_for_new_input_connection_success_id =\"a9bc3f88-5f2d-1559-9c2d-625d8a66e5c8\"\n",
    "check_for_new_input_success_flowfiles_res = post_flowfile_queues(check_for_new_input_success_id)"
   ]
  },
  {
   "cell_type": "code",
   "execution_count": null,
   "metadata": {},
   "outputs": [
    {
     "name": "stdout",
     "output_type": "stream",
     "text": [
      "{'listingRequest': {'destinationRunning': False,\n",
      "                    'finished': False,\n",
      "                    'flowFileSummaries': [],\n",
      "                    'id': 'ad96eb13-0177-1000-0000-000051fe07f0',\n",
      "                    'lastUpdated': '01:24:44 UTC',\n",
      "                    'maxResults': 100,\n",
      "                    'percentCompleted': 0,\n",
      "                    'queueSize': {'byteCount': 0, 'objectCount': 3},\n",
      "                    'sourceRunning': True,\n",
      "                    'state': 'Waiting for other queue requests to complete',\n",
      "                    'submissionTime': '02/17/2021 01:24:44.999 UTC',\n",
      "                    'uri': 'https://learn-cluster-master0.sibatel.xo7z-6zib.cloudera.site:443/learn-cluster/cdp-proxy-api/nifi-app/nifi-api/flowfile-queues/a9bc3f88-5f2d-1559-9c2d-625d8a66e5c8/listing-requests/ad96eb13-0177-1000-0000-000051fe07f0'}}\n"
     ]
    }
   ],
   "source": [
    "pprint(check_for_new_input_success_flowfiles_res)"
   ]
  },
  {
   "cell_type": "code",
   "execution_count": null,
   "metadata": {},
   "outputs": [],
   "source": [
    "check_for_new_input_connection_success_id = \"a9bc3f88-5f2d-1559-9c2d-625d8a66e5c8\"\n",
    "check_for_new_input_connection_success_listing_request_id = \"ad96eb13-0177-1000-0000-000051fe07f0\"\n",
    "\n",
    "check_for_new_input_success_flowfiles_res = get_flowfile_queues(\n",
    "    check_for_new_input_success_id,\n",
    "    check_for_new_input_connection_success_listing_request_id\n",
    ")"
   ]
  },
  {
   "cell_type": "code",
   "execution_count": null,
   "metadata": {},
   "outputs": [
    {
     "name": "stdout",
     "output_type": "stream",
     "text": [
      "{'listingRequest': {'destinationRunning': False,\n",
      "                    'finished': True,\n",
      "                    'flowFileSummaries': [{'clusterNodeAddress': 'learn-cluster-worker0.sibatel.xo7z-6zib.cloudera.site:8443',\n",
      "                                           'clusterNodeId': 'dd3f17cd-dafd-4b88-b7b6-56e58ad52a7a',\n",
      "                                           'filename': 'cdp-data/resources/enrique/source/',\n",
      "                                           'lineageDuration': 417313,\n",
      "                                           'penalized': False,\n",
      "                                           'penaltyExpiresIn': 0,\n",
      "                                           'position': 1,\n",
      "                                           'queuedDuration': 417313,\n",
      "                                           'size': 0,\n",
      "                                           'uri': 'https://learn-cluster-master0.sibatel.xo7z-6zib.cloudera.site:443/learn-cluster/cdp-proxy-api/nifi-app/nifi-api/flowfile-queues/a9bc3f88-5f2d-1559-9c2d-625d8a66e5c8/flowfiles/fba98d4f-a739-4952-9b96-120ce2b3725c',\n",
      "                                           'uuid': 'fba98d4f-a739-4952-9b96-120ce2b3725c'},\n",
      "                                          {'clusterNodeAddress': 'learn-cluster-worker0.sibatel.xo7z-6zib.cloudera.site:8443',\n",
      "                                           'clusterNodeId': 'dd3f17cd-dafd-4b88-b7b6-56e58ad52a7a',\n",
      "                                           'filename': 'cdp-data/resources/enrique/source/1_GB_agents.csv',\n",
      "                                           'lineageDuration': 417313,\n",
      "                                           'penalized': False,\n",
      "                                           'penaltyExpiresIn': 0,\n",
      "                                           'position': 2,\n",
      "                                           'queuedDuration': 417313,\n",
      "                                           'size': 0,\n",
      "                                           'uri': 'https://learn-cluster-master0.sibatel.xo7z-6zib.cloudera.site:443/learn-cluster/cdp-proxy-api/nifi-app/nifi-api/flowfile-queues/a9bc3f88-5f2d-1559-9c2d-625d8a66e5c8/flowfiles/ddb8975f-fc89-488e-8d85-658972f93a33',\n",
      "                                           'uuid': 'ddb8975f-fc89-488e-8d85-658972f93a33'},\n",
      "                                          {'clusterNodeAddress': 'learn-cluster-worker0.sibatel.xo7z-6zib.cloudera.site:8443',\n",
      "                                           'clusterNodeId': 'dd3f17cd-dafd-4b88-b7b6-56e58ad52a7a',\n",
      "                                           'filename': 'cdp-data/resources/enrique/source/campaigns.csv',\n",
      "                                           'lineageDuration': 417313,\n",
      "                                           'penalized': False,\n",
      "                                           'penaltyExpiresIn': 0,\n",
      "                                           'position': 3,\n",
      "                                           'queuedDuration': 417313,\n",
      "                                           'size': 0,\n",
      "                                           'uri': 'https://learn-cluster-master0.sibatel.xo7z-6zib.cloudera.site:443/learn-cluster/cdp-proxy-api/nifi-app/nifi-api/flowfile-queues/a9bc3f88-5f2d-1559-9c2d-625d8a66e5c8/flowfiles/daf46ec4-2398-4ce5-adca-e07eabc9931f',\n",
      "                                           'uuid': 'daf46ec4-2398-4ce5-adca-e07eabc9931f'}],\n",
      "                    'id': 'ad96eb13-0177-1000-0000-000051fe07f0',\n",
      "                    'lastUpdated': '01:24:45 UTC',\n",
      "                    'maxResults': 100,\n",
      "                    'percentCompleted': 1,\n",
      "                    'queueSize': {'byteCount': 0, 'objectCount': 3},\n",
      "                    'sourceRunning': True,\n",
      "                    'state': 'Completed successfully',\n",
      "                    'submissionTime': '02/17/2021 01:24:44.999 UTC',\n",
      "                    'uri': 'https://learn-cluster-master0.sibatel.xo7z-6zib.cloudera.site:443/learn-cluster/cdp-proxy-api/nifi-app/nifi-api/flowfile-queues/a9bc3f88-5f2d-1559-9c2d-625d8a66e5c8/listing-requests/ad96eb13-0177-1000-0000-000051fe07f0'}}\n"
     ]
    }
   ],
   "source": [
    "pprint(check_for_new_input_success_flowfiles_res)"
   ]
  },
  {
   "cell_type": "code",
   "execution_count": null,
   "metadata": {},
   "outputs": [
    {
     "ename": "AttributeError",
     "evalue": "'Response' object has no attribute 'items'",
     "output_type": "error",
     "traceback": [
      "\u001b[0;31m---------------------------------------------------------------------------\u001b[0m",
      "\u001b[0;31mAttributeError\u001b[0m                            Traceback (most recent call last)",
      "\u001b[0;32m<ipython-input-102-4935dc9208e2>\u001b[0m in \u001b[0;36m<module>\u001b[0;34m\u001b[0m\n\u001b[0;32m----> 1\u001b[0;31m \u001b[0;32mfor\u001b[0m \u001b[0mv\u001b[0m\u001b[0;34m,\u001b[0m\u001b[0mk\u001b[0m \u001b[0;32min\u001b[0m \u001b[0mcheck_for_new_input_success_res\u001b[0m\u001b[0;34m.\u001b[0m\u001b[0mitems\u001b[0m\u001b[0;34m(\u001b[0m\u001b[0;34m)\u001b[0m\u001b[0;34m:\u001b[0m\u001b[0;34m\u001b[0m\u001b[0;34m\u001b[0m\u001b[0m\n\u001b[0m\u001b[1;32m      2\u001b[0m     \u001b[0mpprint\u001b[0m\u001b[0;34m(\u001b[0m\u001b[0mv\u001b[0m\u001b[0;34m)\u001b[0m\u001b[0;34m\u001b[0m\u001b[0;34m\u001b[0m\u001b[0m\n\u001b[1;32m      3\u001b[0m     \u001b[0mpprint\u001b[0m\u001b[0;34m(\u001b[0m\u001b[0mk\u001b[0m\u001b[0;34m)\u001b[0m\u001b[0;34m\u001b[0m\u001b[0;34m\u001b[0m\u001b[0m\n",
      "\u001b[0;31mAttributeError\u001b[0m: 'Response' object has no attribute 'items'"
     ]
    }
   ],
   "source": [
    "for v,k in check_for_new_input_success_res.items():\n",
    "    pprint(v)\n",
    "    pprint(k)"
   ]
  },
  {
   "cell_type": "code",
   "execution_count": null,
   "metadata": {},
   "outputs": [],
   "source": []
  }
 ],
 "metadata": {
  "kernelspec": {
   "display_name": "Python 3",
   "language": "python",
   "name": "python3"
  }
 },
 "nbformat": 4,
 "nbformat_minor": 4
}
