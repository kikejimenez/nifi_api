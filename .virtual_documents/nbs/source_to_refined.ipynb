#default_exp source_to_refined


#export

from time import sleep
from nifi_api.environment import NifiIds
from nifi_api.dataflow import DataFlow


# export
def source_to_refined():
    """ The Source To Refined is decomposed in three sequential steps:
        - Source To Raw
        - Raw To Discovery
        - Discovery To Refined
    Each of these steps has to wait for its previous step to finish
    """
    
    #time between steeps
    T = 15 

    source_to_raw = DataFlow(NifiIds.sourceToRaw)
    raw_to_discovery = DataFlow(NifiIds.rawToDiscovery)
    discovery_to_refined = DataFlow(NifiIds.DiscoveryToRefined)

    source_to_raw.run()
    sleep(T)
    raw_to_discovery.run()
    sleep(T)
    discovery_to_refined.run()



