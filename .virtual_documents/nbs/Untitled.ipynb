#default_exp source_to_refined


#export

from nifi_api.environment import NifiIds
from nifi_api.dataflow import DataFlow


# export
def source_to_refined():

    source_to_raw = DataFlow(NifiIds.sourceToRaw)
    raw_to_discovery = DataFlow(NifiIds.rawToDiscovery)
    discovery_to_refined = DataFlow(NifiIds.DiscoveryToRefined)

    source_to_raw.run()
    sleep.time(time_between_steps)
    raw_to_discovry.run()
    sleep.time(time_between_steps)
    discovery_to_refined.run()



