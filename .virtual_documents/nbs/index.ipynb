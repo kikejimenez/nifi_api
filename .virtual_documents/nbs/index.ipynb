#hide
from nifi_api.environment import DataFlowIds
from nifi_api.dataflow import DataFlow


def source_to_refined():
    source_to_raw = DataFlow()
    


if __name__ == "__main__":
    print("hola")



