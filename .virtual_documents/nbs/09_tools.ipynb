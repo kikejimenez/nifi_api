#default_exp tools


#export
import json
from nifi_api.environment import Vars


# export

def custom_response(res):
    """ De-Serializes the JSON response
    """
    try:
        return json.loads(res.text), res
    except:
        return "No JSON available", res


#export


def is_valid_csv(file):
    """ A valid file is a csv file whose name is in a
    set of valid names
  
    """
    valid_names = [
        'agents',
        'calls',
        'summary',
        'skills',
        'teams',
        'campaings',
    ]

    filename = file.split('/')[-1].split('.')
    if len(filename) == 1:
        return False

    fname, ext = filename
    is_valid_name = any(vname in fname for vname in valid_names)
    return is_valid_name and ext.lower() == 'csv'


assert is_valid_csv('some/path/weirdwords_skills.csv')


#export


def get_valid_names_in_connector(list_queues):
    """ Gets a list of valid names from the list of queues
    """
    flowfile_summaries = list_queues['listingRequest']['flowFileSummaries']
    valid_uuids = [
        ff['filename']
        for ff in flowfile_summaries
        if is_valid_csv(ff['filename'])
    ]
    return valid_uuids


example = {
    'listingRequest': {
        'flowFileSummaries': [{
            'uuid': 'A',
            'filename': "enrique/source/",
            'position': 1,
            'penalized': False
        }, {
            'uuid': 'B',
            'filename': 'enrique/source/1_GB_agents.csv',
        }, {
            'uuid': 'C',
            'filename':  'path/tofile/campaings.csv'
        }]
    }
}


def is_valid_example(fname):
    return any(
        fname == vname for vname in get_valid_names_in_connector(example))


assert not is_valid_example('enrique/source/')
assert is_valid_example('enrique/source/1_GB_agents.csv')
assert is_valid_example('path/tofile/campaings.csv')
