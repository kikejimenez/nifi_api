#default_exp environment


#export
import requests
from os import environ
import json 


#export
class Credentials:

    user = environ['CLOUDERA_USER']
    password = environ['CLOUDERA_PASS']
    credentials = (user, password)


#export
class NifiEndpoint:

    cluster = environ['CLOUDERA_CLUSTER']
    nifi_rest = cluster + environ['CLOUDERA_NIFI_REST']
    processors = nifi_rest + "processors/"
    connections = nifi_rest + "connections/"
    flowfile_queues = nifi_rest + "flowfile-queues/"


#export


class DataFlowIds:
    """ Dataflow uuids. Every valid DataFlow must have initial-middle-final
        procesors and initial-final connections
        """

    def __init__(
        self,
        pipeline: dict,
    ) -> None:
        self.in_connection = pipeline['in_connection']['Id']
        self.in_processor = pipeline['in_processor']['Id']
        self.middle_processor = pipeline['middle_processor']['Id']
        self.out_connection = pipeline['out_connection']['Id']
        self.out_processor = pipeline['out_processor']['Id']


class NifiIds:
    """ The collection of the DataFlowIds:
          - source to raw
          - raw to discovery
          - discovery to refined
    """

    nifi_json_ids = json.load(open(environ['CONFIG_FILE']))['NifiIds']

    sourceToRaw = DataFlowIds(pipeline=nifi_json_ids['SourceToRaw'])
    rawToDiscovery = DataFlowIds(pipeline=nifi_json_ids['RawToDiscovery'])
    discoveryToRefined = DataFlowIds(
        pipeline=nifi_json_ids['DiscoveryToRefined'])


#export

class Vars:
    config_file = json.load(open(environ['CONFIG_FILE']))
    seconds_between_checks = config_file['DelaySeconds']['BetweenChecks']
    seconds_after_start = config_file['DelaySeconds']['AfterStart']



